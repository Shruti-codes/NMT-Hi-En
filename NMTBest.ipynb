{
 "cells": [
  {
   "cell_type": "code",
   "execution_count": 1,
   "metadata": {
    "id": "CelDcgvv7o9y"
   },
   "outputs": [],
   "source": [
    "CUDA_LAUNCH_BLOCKING=\"1\""
   ]
  },
  {
   "cell_type": "code",
   "execution_count": 2,
   "metadata": {
    "colab": {
     "base_uri": "https://localhost:8080/"
    },
    "id": "WqdUsjBqLe9q",
    "outputId": "be339472-d67a-4992-c501-61b111738d70"
   },
   "outputs": [],
   "source": [
    "#!git clone \"https://github.com/anoopkunchukuttan/indic_nlp_library\""
   ]
  },
  {
   "cell_type": "code",
   "execution_count": 3,
   "metadata": {
    "colab": {
     "base_uri": "https://localhost:8080/"
    },
    "id": "pIUVEkU2LkhC",
    "outputId": "fb1c0e3a-3501-432e-891e-4282bf11328f"
   },
   "outputs": [],
   "source": [
    "#!git clone https://github.com/anoopkunchukuttan/indic_nlp_resources.git"
   ]
  },
  {
   "cell_type": "code",
   "execution_count": 4,
   "metadata": {
    "colab": {
     "base_uri": "https://localhost:8080/"
    },
    "id": "l_xTS9WaLnvp",
    "outputId": "0e23bc15-b870-4ff0-805d-ba5213c897b8"
   },
   "outputs": [],
   "source": [
    "#!pip install indic-nlp-library"
   ]
  },
  {
   "cell_type": "code",
   "execution_count": 5,
   "metadata": {
    "colab": {
     "base_uri": "https://localhost:8080/"
    },
    "id": "fM7XrhewLplu",
    "outputId": "02ac2e41-c065-4c15-a939-427fdd7cf359"
   },
   "outputs": [],
   "source": [
    "# from google.colab import drive\n",
    "# drive.mount(\"/content/gdrive\")"
   ]
  },
  {
   "cell_type": "code",
   "execution_count": 6,
   "metadata": {
    "id": "5936aQxhMB5g"
   },
   "outputs": [],
   "source": [
    "import os\n",
    "import sys"
   ]
  },
  {
   "cell_type": "code",
   "execution_count": 7,
   "metadata": {
    "colab": {
     "base_uri": "https://localhost:8080/"
    },
    "id": "2dBz3I4KMEFx",
    "outputId": "e66db320-65f8-47c1-ba73-cadc3c89fdfa"
   },
   "outputs": [
    {
     "name": "stdout",
     "output_type": "stream",
     "text": [
      "/data/shrutis/anaconda\n"
     ]
    }
   ],
   "source": [
    "# path = '/content/gdrive/My Drive/'\n",
    "# os.chdir(path)\n",
    "print(os.getcwd())"
   ]
  },
  {
   "cell_type": "code",
   "execution_count": 8,
   "metadata": {
    "colab": {
     "base_uri": "https://localhost:8080/"
    },
    "id": "L7gm6_hkMGlL",
    "outputId": "0b291647-5b45-4eb3-b3b5-c56877e75dde"
   },
   "outputs": [
    {
     "name": "stdout",
     "output_type": "stream",
     "text": [
      "1.8.1+cu102\n",
      "cuda\n"
     ]
    }
   ],
   "source": [
    "from __future__ import unicode_literals, print_function, division\n",
    "import torch\n",
    "torch.cuda.empty_cache()\n",
    "import torch.nn as nn\n",
    "from torch import optim\n",
    "import torch.nn.functional as F\n",
    "print(torch.__version__)\n",
    "# print(torchvision.__version__)\n",
    "device = torch.device(\"cuda\" if torch.cuda.is_available() else \"cpu\")\n",
    "print(device)\n",
    "\n",
    "from io import open\n",
    "import unicodedata\n",
    "import string\n",
    "import re\n",
    "import random\n",
    "import pandas as pd\n",
    "from unicodedata import normalize\n",
    "from nltk.tokenize import word_tokenize\n",
    "from numpy import array\n",
    "import numpy as np"
   ]
  },
  {
   "cell_type": "code",
   "execution_count": 9,
   "metadata": {},
   "outputs": [],
   "source": [
    "#!pip install torch"
   ]
  },
  {
   "cell_type": "code",
   "execution_count": 10,
   "metadata": {
    "colab": {
     "base_uri": "https://localhost:8080/"
    },
    "id": "ROc4H5YMGKM9",
    "outputId": "2a495db7-9332-48d0-a991-ba5326869aec"
   },
   "outputs": [
    {
     "name": "stdout",
     "output_type": "stream",
     "text": [
      "10.2\n"
     ]
    }
   ],
   "source": [
    "print(torch.version.cuda)"
   ]
  },
  {
   "cell_type": "code",
   "execution_count": 11,
   "metadata": {
    "id": "pTJqrW2RJP0c"
   },
   "outputs": [],
   "source": [
    "# !pip uninstall torch torchvision -y\n",
    "# !pip install torch torchvision"
   ]
  },
  {
   "cell_type": "code",
   "execution_count": 12,
   "metadata": {
    "colab": {
     "base_uri": "https://localhost:8080/"
    },
    "id": "84hZgZS_Gyaj",
    "outputId": "d6430d73-6183-4d13-a79d-fc6a887df3aa"
   },
   "outputs": [
    {
     "name": "stdout",
     "output_type": "stream",
     "text": [
      "/usr/bin/nvidia-modprobe: unrecognized option: \"-f\"\n",
      "\n",
      "ERROR: Invalid commandline, please run `/usr/bin/nvidia-modprobe --help` for\n",
      "       usage information.\n",
      "\n",
      "/usr/bin/nvidia-modprobe: unrecognized option: \"-f\"\n",
      "\n",
      "ERROR: Invalid commandline, please run `/usr/bin/nvidia-modprobe --help` for\n",
      "       usage information.\n",
      "\n",
      "Wed Mar 31 19:18:01 2021       \n",
      "+-----------------------------------------------------------------------------+\n",
      "| NVIDIA-SMI 450.102.04   Driver Version: 450.102.04   CUDA Version: 11.0     |\n",
      "|-------------------------------+----------------------+----------------------+\n",
      "| GPU  Name        Persistence-M| Bus-Id        Disp.A | Volatile Uncorr. ECC |\n",
      "| Fan  Temp  Perf  Pwr:Usage/Cap|         Memory-Usage | GPU-Util  Compute M. |\n",
      "|                               |                      |               MIG M. |\n",
      "|===============================+======================+======================|\n",
      "|   0  GeForce GTX 108...  Off  | 00000000:05:00.0 Off |                  N/A |\n",
      "| 39%   67C    P2    63W / 250W |   1944MiB / 11177MiB |      0%      Default |\n",
      "|                               |                      |                  N/A |\n",
      "+-------------------------------+----------------------+----------------------+\n",
      "|   1  GeForce GTX 108...  Off  | 00000000:06:00.0 Off |                  N/A |\n",
      "| 60%   84C    P2   146W / 250W |   8468MiB / 11178MiB |    100%      Default |\n",
      "|                               |                      |                  N/A |\n",
      "+-------------------------------+----------------------+----------------------+\n",
      "|   2  GeForce GTX 108...  Off  | 00000000:09:00.0 Off |                  N/A |\n",
      "| 30%   52C    P8    13W / 250W |      4MiB / 11178MiB |      0%      Default |\n",
      "|                               |                      |                  N/A |\n",
      "+-------------------------------+----------------------+----------------------+\n",
      "|   3  GeForce GTX 108...  Off  | 00000000:0A:00.0 Off |                  N/A |\n",
      "| 35%   60C    P2    64W / 250W |   1579MiB / 11178MiB |      0%      Default |\n",
      "|                               |                      |                  N/A |\n",
      "+-------------------------------+----------------------+----------------------+\n",
      "                                                                               \n",
      "+-----------------------------------------------------------------------------+\n",
      "| Processes:                                                                  |\n",
      "|  GPU   GI   CI        PID   Type   Process name                  GPU Memory |\n",
      "|        ID   ID                                                   Usage      |\n",
      "|=============================================================================|\n",
      "|    0   N/A  N/A      1492      G   /usr/lib/xorg/Xorg                  9MiB |\n",
      "|    0   N/A  N/A      1605      G   /usr/bin/gnome-shell                6MiB |\n",
      "|    0   N/A  N/A     26518      C   python3                           955MiB |\n",
      "|    0   N/A  N/A     31100      C   ...ang/miniconda3/bin/python      969MiB |\n",
      "|    1   N/A  N/A     10936      C   python                            263MiB |\n",
      "|    1   N/A  N/A     26518      C   python3                          8201MiB |\n",
      "|    3   N/A  N/A     21361      C   python                            649MiB |\n",
      "|    3   N/A  N/A     21900      C   python                            545MiB |\n",
      "|    3   N/A  N/A     23790      C   python                            381MiB |\n",
      "+-----------------------------------------------------------------------------+\n"
     ]
    }
   ],
   "source": [
    "#To check if GPU is running or not\n",
    "!nvidia-smi"
   ]
  },
  {
   "cell_type": "code",
   "execution_count": 13,
   "metadata": {
    "colab": {
     "base_uri": "https://localhost:8080/"
    },
    "id": "sFKbLaY_KOM4",
    "outputId": "3e681f1a-eb04-4abd-c6cd-4d771f1c0653"
   },
   "outputs": [
    {
     "name": "stdout",
     "output_type": "stream",
     "text": [
      "Python 3.7.3\r\n"
     ]
    }
   ],
   "source": [
    "!python -V"
   ]
  },
  {
   "cell_type": "code",
   "execution_count": 14,
   "metadata": {
    "colab": {
     "base_uri": "https://localhost:8080/"
    },
    "id": "l0ILmNAPKVoS",
    "outputId": "9f06cdf0-fa04-4167-da9d-c851834894f6"
   },
   "outputs": [],
   "source": [
    "#!nvcc --version"
   ]
  },
  {
   "cell_type": "code",
   "execution_count": 15,
   "metadata": {
    "colab": {
     "base_uri": "https://localhost:8080/"
    },
    "id": "KO_Ta5VOXqcN",
    "outputId": "395972b2-81ef-4551-bb79-e26b3e833ea2"
   },
   "outputs": [],
   "source": [
    "# import nltk\n",
    "# nltk.download('punkt')"
   ]
  },
  {
   "cell_type": "code",
   "execution_count": 16,
   "metadata": {
    "id": "HLHWYFzXXHxZ"
   },
   "outputs": [],
   "source": [
    "from indicnlp.tokenize import indic_tokenize "
   ]
  },
  {
   "cell_type": "code",
   "execution_count": 17,
   "metadata": {
    "id": "S0cV15u5XD4W"
   },
   "outputs": [],
   "source": [
    "from indicnlp.normalize.indic_normalize import DevanagariNormalizer\n",
    "factory = DevanagariNormalizer()"
   ]
  },
  {
   "cell_type": "code",
   "execution_count": 18,
   "metadata": {
    "id": "QET6IplLMMjh"
   },
   "outputs": [],
   "source": [
    "SOS_token = 0\n",
    "EOS_token = 1\n",
    "\n",
    "#helper class\n",
    "class Lang:\n",
    "    def __init__(self, name):\n",
    "        \"\"\" name are the list of phrases from each language\"\"\"\n",
    "        self.name = name\n",
    "        #word -> index dict\n",
    "        self.word2index = {\"SOS\" : 0, \"EOS\" : 1}\n",
    "        #count of each word to later replace rare words\n",
    "        self.word2count = {}\n",
    "        #index -> word dict\n",
    "        self.index2word = {0: \"SOS\", 1: \"EOS\"}\n",
    "        self.n_words = 2  # Count SOS, EOS tokens\n",
    "        self.max_seq_length = -1\n",
    "\n",
    "    def addSentence(self, sentence):\n",
    "        #Compute the maximum sequence length (useful for decoder)\n",
    "        sentence_splitted = sentence.split(' ')\n",
    "        if(len(sentence_splitted) > self.max_seq_length):\n",
    "            self.max_seq_length = len(sentence_splitted)\n",
    "        # update with individual tokens\n",
    "        for word in sentence.split(' '):\n",
    "            self.addWord(word)\n",
    "\n",
    "    def addWord(self, word):\n",
    "        if word not in self.word2index:\n",
    "            # word to index mapping\n",
    "            self.word2index[word] = self.n_words\n",
    "            self.word2count[word] = 1\n",
    "            self.index2word[self.n_words] = word\n",
    "            self.n_words += 1\n",
    "        else:\n",
    "            self.word2count[word] += 1"
   ]
  },
  {
   "cell_type": "code",
   "execution_count": 70,
   "metadata": {
    "id": "ETTTJJifAgRq"
   },
   "outputs": [],
   "source": [
    "contractions = { \n",
    "\"ain't\": \"am not\",\n",
    "\"aren't\": \"are not\",\n",
    "\"can't\": \"cannot\",\n",
    "\"can't've\": \"cannot have\",\n",
    "\"'cause\": \"because\",\n",
    "\"could've\": \"could have\",\n",
    "\"couldn't\": \"could not\",\n",
    "\"couldn't've\": \"could not have\",\n",
    "\"didn't\": \"did not\",\n",
    "\"doesn't\": \"does not\",\n",
    "\"don't\": \"do not\",\n",
    "\"hadn't\": \"had not\",\n",
    "\"hadn't've\": \"had not have\",\n",
    "\"hasn't\": \"has not\",\n",
    "\"haven't\": \"have not\",\n",
    "\"he'd\": \"he would\",\n",
    "\"he'd've\": \"he would have\",\n",
    "\"he'll\": \"he will\",\n",
    "\"he's\": \"he is\",\n",
    "\"how'd\": \"how did\",\n",
    "\"how'll\": \"how will\",\n",
    "\"how's\": \"how is\",\n",
    "\"here's\": \"here is\",\n",
    "\"i'd\": \"i would\",\n",
    "\"i'll\": \"i will\",\n",
    "\"i'm\": \"i am\",\n",
    "\"i've\": \"i have\",\n",
    "\"isn't\": \"is not\",\n",
    "\"it'd\": \"it would\",\n",
    "\"it'll\": \"it will\",\n",
    "\"it's\": \"it is\",\n",
    "\"let's\": \"let us\",\n",
    "\"ma'am\": \"madam\",\n",
    "\"mayn't\": \"may not\",\n",
    "\"might've\": \"might have\",\n",
    "\"mightn't\": \"might not\",\n",
    "\"must've\": \"must have\",\n",
    "\"mustn't\": \"must not\",\n",
    "\"needn't\": \"need not\",\n",
    "\"oughtn't\": \"ought not\",\n",
    "\"shan't\": \"shall not\",\n",
    "\"sha'n't\": \"shall not\",\n",
    "\"she'd\": \"she would\",\n",
    "\"she'll\": \"she will\",\n",
    "\"she's\": \"she is\",\n",
    "\"should've\": \"should have\",\n",
    "\"shouldn't\": \"should not\",\n",
    "\"that'd\": \"that would\",\n",
    "\"that's\": \"that is\",\n",
    "\"there'd\": \"there had\",\n",
    "\"there's\": \"there is\",\n",
    "\"they'd\": \"they would\",\n",
    "\"they'll\": \"they will\",\n",
    "\"they're\": \"they are\",\n",
    "\"they've\": \"they have\",\n",
    "\"wasn't\": \"was not\",\n",
    "\"we'd\": \"we would\",\n",
    "\"we'll\": \"we will\",\n",
    "\"we're\": \"we are\",\n",
    "\"we've\": \"we have\",\n",
    "\"weren't\": \"were not\",\n",
    "\"what'll\": \"what will\",\n",
    "\"what're\": \"what are\",\n",
    "\"what's\": \"what is\",\n",
    "\"what've\": \"what have\",\n",
    "\"where'd\": \"where did\",\n",
    "\"where's\": \"where is\",\n",
    "\"who'll\": \"who will\",\n",
    "\"who's\": \"who is\",\n",
    "\"won't\": \"will not\",\n",
    "\"wouldn't\": \"would not\",\n",
    "\"you'd\": \"you would\",\n",
    "\"you'll\": \"you will\",\n",
    "\"you're\": \"you are\",\n",
    "\"y'all\":\"you all\",\n",
    "\"let's\": \"let us\"\n",
    "}\n",
    "# #Dictionary mapping contractions to word(s)"
   ]
  },
  {
   "cell_type": "code",
   "execution_count": 73,
   "metadata": {
    "id": "Cejs8lCvMREb"
   },
   "outputs": [],
   "source": [
    "# Lowercase, trim, and remove non-letter characters\n",
    "def normalizeString(w):\n",
    "    # creating a space between a word and the punctuation following it\n",
    "    # eg: \"he is a boy.\" => \"he is a boy .\" \n",
    "    # Reference:- https://stackoverflow.com/questions/3645931/python-padding-punctuation-with-white-spaces-keeping-punctuation\n",
    "    w = re.sub(r\"([?.!,¿-])\", r\" \\1 \", w)\n",
    "    w = re.sub(r\"[().!,?-]+\", r\" \", w)\n",
    "    w = re.sub(r'[\" \"]+', \" \", w) #multiple spaces\n",
    "    w = w.lower().strip() #lowercase #Remove white spaces\n",
    "\n",
    "    return w"
   ]
  },
  {
   "cell_type": "code",
   "execution_count": 48,
   "metadata": {
    "id": "Hx35rWExWz2-"
   },
   "outputs": [],
   "source": [
    "# clean a list of lines\n",
    "def clean_pairs(lines):\n",
    "    cleaned = list()\n",
    "    regex = re.compile('[%s]' % re.escape(string.punctuation))\n",
    "\n",
    "    for pair in lines:\n",
    "        clean_pair = list()\n",
    "        \n",
    "        #cleaning hindi phrases\n",
    "        line = pair[0]\n",
    "        line = factory.normalize(line)\n",
    "        tokens = list()\n",
    "        for t in indic_tokenize.trivial_tokenize(line): \n",
    "            tokens.append(t)\n",
    "        line = tokens\n",
    "        line = [word.lower() for word in line]\n",
    "        line = [word for word in line if not re.search(r'\\d', word)]\n",
    "        line = [regex.sub('', w) for w in line]\n",
    "        #Replace the english characters\n",
    "        line = [re.sub(r\"[a-zA-Z]+?\\s\", \"\", w) for w in line]\n",
    "        clean_pair.append(' '.join(line))\n",
    "\n",
    "        #cleaning english phrases\n",
    "        line = pair[1]\n",
    "        line = normalize('NFD', line).encode('ascii', 'ignore')\n",
    "        line = line.decode('UTF-8')\n",
    "        line = word_tokenize(line) \n",
    "        line = [word.lower() for word in line]\n",
    "        #Convert to lowercase first as all our contractions are in lower case. \n",
    "        line = [regex.sub('', w) for w in line]\n",
    "        #handle apostrophes !!!!!!\n",
    "        line = [re.sub(r\"[^a-zA-Z0-9?.!,¿\\-\\/']+\", \" \", w) for w in line]\n",
    "        line = [re.sub(r\" - \", \"-\", w) for w in line]\n",
    "        line = [word for word in line if word.isalpha()]\n",
    "        clean_pair.append(' '.join(line))\n",
    "        \n",
    "        cleaned.append(clean_pair)\n",
    "    return array(cleaned)"
   ]
  },
  {
   "cell_type": "code",
   "execution_count": 49,
   "metadata": {
    "id": "AcWzZB96MXJE"
   },
   "outputs": [],
   "source": [
    "def readLangs(lang1, lang2):\n",
    "    print(\"Reading lines...\")\n",
    "\n",
    "    # Read the file\n",
    "    df = pd.read_csv(\"train.csv\")\n",
    "    #df.head(5)\n",
    "    df1 = pd.read_csv(\"hindistatements.csv\")\n",
    "\n",
    "    # Split every line into pairs and normalize\n",
    "    df[\"hindi\"] = df.hindi.apply(lambda w: normalizeString(w))\n",
    "    df1[\"hindi\"] = df1.hindi.apply(lambda w: normalizeString(w))\n",
    "    df[\"english\"] = df.english.apply(lambda w: normalizeString(w))\n",
    "    df['english'] = df['english'].replace(contractions,regex=True)\n",
    "\n",
    "    pairs=[]\n",
    "    for ind, r in df.iterrows():\n",
    "        pairs.append([r['hindi'],r['english']])\n",
    "    \n",
    "    pairst=[]\n",
    "    for ind, r in df1.iterrows():\n",
    "        pairst.append([r['hindi'],\"\"])\n",
    "\n",
    "    #make Lang instances\n",
    "    input_lang = Lang(lang1)\n",
    "    output_lang = Lang(lang2)\n",
    "\n",
    "    return input_lang, output_lang, pairs, pairst"
   ]
  },
  {
   "cell_type": "code",
   "execution_count": 71,
   "metadata": {
    "id": "PAxULjjAMyyE"
   },
   "outputs": [],
   "source": [
    "MAX_LENGTH_CUT_OFF = 100 #including ending punctuation , excluding start/end tokens\n",
    "\n",
    "def filterPair(p):\n",
    "    return len(p[0].split(' ')) <= MAX_LENGTH_CUT_OFF and len(p[1].split(' ')) <= MAX_LENGTH_CUT_OFF \n",
    "\n",
    "\n",
    "def filterPairs(pairs):\n",
    "    return [pair for pair in pairs if filterPair(pair)]"
   ]
  },
  {
   "cell_type": "code",
   "execution_count": 31,
   "metadata": {
    "id": "6psYCVVtM0kr"
   },
   "outputs": [],
   "source": [
    "def prepareData(lang1, lang2):\n",
    "    input_lang, output_lang, pairs, pairst = readLangs(lang1, lang2)\n",
    "    print(\"Read %s sentence pairs\" % len(pairs))\n",
    "    pairs = clean_pairs(pairs)\n",
    "    pairs = filterPairs(pairs)\n",
    "    pairst = clean_pairs(pairst)\n",
    "    pairst = filterPairs(pairst)\n",
    "    print(\"Trimmed to %s sentence pairs\" % len(pairs))\n",
    "    #Make word lists from sentences in pairs\n",
    "    for pair in pairs:\n",
    "        input_lang.addSentence(pair[0])\n",
    "        output_lang.addSentence(pair[1])\n",
    "    for pair in pairst:\n",
    "        input_lang.addSentence(pair[0])\n",
    "    print(\"Counted words:\")\n",
    "    print(input_lang.name, input_lang.n_words)\n",
    "    print(output_lang.name, output_lang.n_words)\n",
    "    return input_lang, output_lang, pairs, pairst"
   ]
  },
  {
   "cell_type": "code",
   "execution_count": 75,
   "metadata": {
    "colab": {
     "base_uri": "https://localhost:8080/"
    },
    "id": "neaJOkkbM3FU",
    "outputId": "4e555ae0-020b-4fbf-a527-efc7f5cab466"
   },
   "outputs": [
    {
     "name": "stdout",
     "output_type": "stream",
     "text": [
      "Reading lines...\n",
      "Read 102322 sentence pairs\n",
      "Trimmed to 102298 sentence pairs\n",
      "Counted words:\n",
      "hindi 45413\n",
      "english 29898\n",
      "['विज्ञान के प्रति मेरा प्यार शुरू हुआ जब माता पिता ने मुझे एक कीचड़ रसायन सेट खरीदा और तब बढ़ गया था मेरी छठी श्रेणी की जीवविज्ञान कक्षा में सकल प्रयोग करके ।'\n",
      " 'in fact my love of science itself began when my parents bought me a slime chemistry set and was then only enhanced by doing gross experiments in my sixth grade biology class']\n"
     ]
    }
   ],
   "source": [
    "### Load the training data \n",
    "input_lang, output_lang, pairs, pairst = prepareData('hindi', 'english')\n",
    "print(random.choice(pairs))"
   ]
  },
  {
   "cell_type": "code",
   "execution_count": 76,
   "metadata": {
    "colab": {
     "base_uri": "https://localhost:8080/"
    },
    "id": "DPxEJGjFNSWc",
    "outputId": "fcd35252-0efd-46f6-b188-9c86e0cb01e3"
   },
   "outputs": [
    {
     "name": "stdout",
     "output_type": "stream",
     "text": [
      "['इसका निर्देशक अनाथालय को दान में प्राप्त पूरी धनराशि का गबन कर रहा था । और मेरी अनुपस्थिति में बच्चे इतने भारी उपेक्षित थे कि वे अपने पेट भरने के लिए चूहों को पकड़ने के लिए बाध्य थे ।'\n",
      " 'the director had been embezzling every cent donated to the orphanage and in my absence the children were suffering such gross neglect that they were forced to catch mice to feed themselves']\n"
     ]
    }
   ],
   "source": [
    "print(random.choice(pairs))\n",
    "# val_pairs = pairs[100000:]\n",
    "# pairs = pairs[:100000]\n",
    "\n",
    "from sklearn.model_selection import train_test_split\n",
    "\n",
    "# split data into train and test set\n",
    "pairs, val_pairs = train_test_split(pairs, test_size=0.2, random_state = 12)"
   ]
  },
  {
   "cell_type": "code",
   "execution_count": 61,
   "metadata": {},
   "outputs": [
    {
     "data": {
      "text/plain": [
       "array(['गन क्लिक करके', 'gun clicking'], dtype='<U2021')"
      ]
     },
     "execution_count": 61,
     "metadata": {},
     "output_type": "execute_result"
    }
   ],
   "source": [
    "pairs[20]"
   ]
  },
  {
   "cell_type": "code",
   "execution_count": 77,
   "metadata": {
    "colab": {
     "base_uri": "https://localhost:8080/"
    },
    "id": "9kLujk5mNV09",
    "outputId": "e835dcc2-a087-40cc-9092-da39aeca94d0"
   },
   "outputs": [
    {
     "name": "stdout",
     "output_type": "stream",
     "text": [
      "Test set size is :  4999\n"
     ]
    }
   ],
   "source": [
    "print('Test set size is : ', len(pairst))"
   ]
  },
  {
   "cell_type": "code",
   "execution_count": 78,
   "metadata": {
    "colab": {
     "base_uri": "https://localhost:8080/"
    },
    "id": "GMJCT25BNXGc",
    "outputId": "c89dd1dd-b583-4f21-b0c7-cfcb92823d4e"
   },
   "outputs": [
    {
     "name": "stdout",
     "output_type": "stream",
     "text": [
      "maximum input sequence length :  99\n",
      "maximum output sequence length :  95\n"
     ]
    }
   ],
   "source": [
    "print(\"maximum input sequence length : \" , input_lang.max_seq_length)\n",
    "print(\"maximum output sequence length : \" , output_lang.max_seq_length)"
   ]
  },
  {
   "cell_type": "code",
   "execution_count": 79,
   "metadata": {
    "colab": {
     "base_uri": "https://localhost:8080/"
    },
    "id": "dt0roFIKP8Kw",
    "outputId": "b5417fea-65c3-4cbe-f0bf-291b6f284075"
   },
   "outputs": [
    {
     "name": "stdout",
     "output_type": "stream",
     "text": [
      "['उदहारण के लिए महिला और पुरुष अपनी नाकामयाबी को अलग तरह से लेते हैं ।'\n",
      " 'for instance that men and women react in a different way after the failure of a business']\n"
     ]
    }
   ],
   "source": [
    "print(random.choice(val_pairs))"
   ]
  },
  {
   "cell_type": "code",
   "execution_count": 80,
   "metadata": {
    "id": "OcMRV11lRAsS"
   },
   "outputs": [],
   "source": [
    "#Return a list of indexes, one for each word in the sentence\n",
    "def indexesFromSentence(lang, sentence):\n",
    "    return [lang.word2index[word] for word in sentence.split(' ')]\n",
    "\n",
    "\n",
    "def tensorFromSentence(lang, sentence):\n",
    "    indexes = indexesFromSentence(lang, sentence)\n",
    "    #append the EOS token to both sequences - enables the model to define a distribution over sequences of all possible lengths.\n",
    "    indexes.append(EOS_token)\n",
    "    return torch.tensor(indexes, dtype=torch.long, device=device).view(-1, 1)\n",
    "\n",
    "def tensorsFromPair(pair):\n",
    "    #input tensor - indexes of the words in the input sentence\n",
    "    input_tensor = tensorFromSentence(input_lang, pair[0])\n",
    "    #target tensor - indexes of the words in the target sentence\n",
    "    target_tensor = tensorFromSentence(output_lang, pair[1])\n",
    "    return (input_tensor, target_tensor)"
   ]
  },
  {
   "cell_type": "markdown",
   "metadata": {
    "id": "mLMqPHyXwo2_"
   },
   "source": [
    "**Computation Graph of Encoder**\n",
    "\n",
    "![encoder-network.png](data:image/png;base64,iVBORw0KGgoAAAANSUhEUgAAANYAAADPCAYAAACJOi99AAAAAXNSR0IArs4c6QAAKMxJREFUeAHtfQeYHMW17i+twirsrlY5I6GIJAQKIBAGiSRAIIMxmGyLC342F8zFV8ATPDDhYbBNMBhsnm1kwAIEOILCBREkZAGSrJwjyqucc37/P7Wt6d2dmZ6d7ZnpmanzfbvT3VVd4a86dU6dqq5T7cSJE8dhySJgEfATgdE1mFo1P1O0aVkELAKoVt2CYBGwCPiPgGUs/zG1KVoEYBnLdgKLQBIQsIyVCKgnjiXyVtXesTamquGXrLejtIuMF5Hp3fMjP8/1p20uBM57MvUoaDo84afApumpz9vmGBmBsx4E2l9O819F+RSdsdZPjpxYrj+t1yJ9CGydD9h2SR/+5XPudlv5JyfvK7LaySB7YRGwCCSKgGWsRJGz71kEYiBgGSsGODbIIpAoApaxEkXOvmcRiIFAyhjr3VnAmIUxSpKEoN0Hk5CoTTIhBEax/cfGaP95G4BfTYie9KY9wBPjgb2HIsfxCo/8VvKepoyx3p8DjFuUvIqUT/mevwO/+Vf5p/Y+XQi8M5OMFaP9xVjPTYxeuo1krMdjMJZXePSUkxMS3dzuc35/H+pzgh7JTV0DXN3dI5INDgwCN/cG9JctlDLG+u2XQFE+cGsfYMpq4LNlwGVdgFe/AjZwNLq4I3DfBUAeZajCP1nKddh2wB+mALVYyu+eTkbpYWA/cAS49x/A8IuADo3Ns3U7jarw7BBgxFRg1XbggwUmvYcuzpbmiq8eXvgdOgpIov+vc4BfUP3q0Ii/g4HqxP7PXH+Wyn6QcS7sAPzkW0CNPOCVyUBttsMP+Y5DCzcCL/H5S1cD+TWdp9F/TzBIbaN2aVAHuP0s5tHRxJ/KNpe6+OI15v4w81fbqx+0LAKuOq1sul7hij17PaB+t3oH0K0Z8CDX9pWWSPXp1ITLgruAD1mefNbtzn7AJZ1NeFX/E8rU0PglwOSVJq9lWwjgJOC2d4A2DYBz2gIP/w/w80/D4VILvj8KOJthzQs4mr1tgFcMgfraNG5C2Gvi6/+2/ebZ/sNA16ZAvdpAK4IoQHONhG8s/I5wR5bwE6a1yTQ7Dxim+q9/AsM+ZIfjYNW/Hec8E4Hr/mzQE+M8NA7Quw6p4yuveJhK77w1A3h3NnBFV5PnFX8ExJyi5duAkQx36G4y/lPsDyqH2vsW9hU3eYV/vgw492XOydgfrj8DkAbT83mghIwk+pj98Ud/Bd74Nwf1TsAxcv1lLM+C0vKYWIn/J5+mh7aSET6/Czi9dCPD+t1mdPrZIFOe3ZykjroVGFw6UuVVM1Lqpl7e5b2ym9HH+7YOSznvt7IrRjz4XdcTeOZKU++lZJBXvmTnvxlwMFZ4p18AX6wAbmDnFON9tBgY0h04SgYbRSZ57qr4cWvNgW7cnUBNMvNQSqtGjwJfU1J1a142jbkllGxk/Pn3h8O6M86w0SaeV7hi3c+4YmD1IZEkbe8XgKc/Yz2vNc/q1QImsg9KUt/dH2j6uNGklFdViUmmh+qQpR2mUgnaNjCji1MajaQDOzh3wCCqjWLGtTvDz+xVdATiwa/fKeH3p68FTnDU/jd/h481f69NBeqz8ymsIJ/Si4z29kzzjkb8g0eoovNZvNSHA52YSlSHElAMVcIBtTzNJmM1KwgzlcIvZ/s75BUuVXfOBkC/Tl30q2nG9HVOKoAGXjGVSL/ScCTh/KC0Say6bDA3VadEUsM61KQ+4I7TsK4Jkbm1kGqeyB3fraKY0Nz+Hwu/4joGm0almOpO6mANdi4xZDW2hUOaYzkjuOZEg18D9hw0atv3KMXcbeS8E+23kMzpJmXjbkMnTGU5zr6gMKcsmuc55BWuZRa9X5/9RP3KoUs7A07d9UwSy03SivyitDGWVwXWUReW/q4JpujTpQaILrw/RDVE5B5dZKywFEYgFn77KWnKU0fOq47w9BOpef3bmdBjvH9zOtC5tA0GdABaFBoVUBP+T39cPhV/7ntTkmzm/FmSqVcrk6aMXQ55hWtQ0eDbkmV9erDzFqB5viMxw0+Tc1UqCJOTeFVTffITAryHE8/VRuce2teIbKkR0tdlYdLo+Q0nvproukmj8aLNtDhGUDXc8bL5Ohp+keos65wGrZ99ZCbwUvO0bvS/x7CTlkoaSQ/NjR6mEUNGp/7tIqVU9WdS0brT6PQk85e1V3MqGUoc8gpXvLv6G6mqAUADxKQVnG+/zunEPieV5P4GlrFkmpeO3PYpmmRfpT7chpbEq8NgvPpdM9EsfpRhL3KyOjAcpqtregB/nUur4ktln+fKnRd+5XHQSP7B7YCk2enPAY0fM/iOvJnX9cKxf8DBbQdVtdvPDj/z+0pWxjF3mPlXx2dMGw7uGs7FK1wxHxsE3Hgm54Vvcn74MPCDd4EHBhoLYTil5F1V4/Fn1EYj0PMcntJEI6l+/PRDji5P0ozOEUZ6vKRUeTrOkUjWxFYU+c4k1B1HZtqjjFOZeYD7/YjXna+nvvR+xKCkP/zLpcCacqI5Qqbx4hfh1dCjXWQc4dbIxVDR4ib7+RaqhAVU66KZ9L3CNffWdqfWlLC+06W/B3pwNKpeoXOGjj/zPT8/E4zVuGImqSTRSAvL5Mmcplj4RQOmqNS4ES28/HOpWlGG51BUGRAiDXzl04l0r/lSLPIKlyROClPFKhTDAmm80OjUJACjpQd2gQ1ONX59fh3ZbO4A9J3Tgd9f59zlxm8gGUsr5fqzlBgCqcZv9rDEypnNbwXWeJHNoNu6ZT8ClrGyv41tDdOAgGWsNIBus8x+BCxjZX8b2xqmAYHoxovquW6ojtIa1aNDFuUN/x4rb9su/uFZ1ZSq0ZYfhaIvEEd5IQiPDx8+jFq10sj47t2hQQAkwGU4zlX86okuYgW4XieLdpwr0NUrMNjojFMFN2/ejGnTpkENljZytlynrQCZkfG+ffvw1Vdf4cABbuXIVqrIVKGaZhxjNWjQIMRUO3fuzNamypp6bdy4MaRZ1KlTya0cWYBAxjGWVMCCggJs28Yt7ZYCi4C2oEq7aN68eWDLmMyCZRxjCYxGjRpZxkpmr/Ah7e3bt+PIkSNo1qyZD6llXhIZy1iHDh3Cnj3ctmwpkAhIDZTaXrs2t6bnIGUkY9WrVw/5+flWagW0wx49ehSSWLmqBqpZMpKxVHCrDgqFYNKmTZt4VkU1NG7cOJgFTEGpMpaxiouLsXfvXsyfPx+TJ0/GmjVrUgCXzSIeBMRYTZs2ze71Kw8g0riNwKNkUYKlZixcuBCOuV0qhyxQx45xoc5S2hHQ2pXmvh06dEh7WdJZgIyUWGo450QB/WplPy+vwup3OnHN2bxltNC6VVFRUc5ioIpnHGPVqFEDp512WplGE3NZxioDSdputHaVqyZ2N+gZx1gqfMOGDdGmTRt3PXJany8DRBpvtGivtatctgY68GckY6nw7du3h8zuzgZPK7GcJk3fr4wWUgFzde3KjXzGMpbMuT169AiZdZ15lrti9jq1CMioJIllpZXBPapVUOexRT5wMLUNFiu36jXzcWrHzli2ZBFOVKuBw1lgGNRRYTpDPdNIcysNdk2aNMm0oielvFEZaxMPynxtVlLy9DnRpuDGGXwxvwhp/JDElzrV57Fv9/No5EwkWQPFVI5qnol18LPMURlrMxnr9dl+ZpXMtLLDtNuY581nImPt37/frl2V694ZqHSUq4G9TTsCklbau5nra1fuhrCM5UbDXieEgKyB1mhRFjrLWGXxsHeVRCDXv7uKBpdlrGjI2OdxISA1UCqgVEFLYQQCy1hXd6FfrHbhgvpx1Z8Oza7vFj0ld7jM3vf1ozcTugiyFBkBu3YVGRc9zS3G4i6oG2Ixlitc/mh/QudqlrGidx67dhUdm6jm9uiv5EaI/PF2eDk36ppoLe3aVXTkfGWsa+nO8pJTjef1r9YBb3Ad7Bi3b2gnwVMXAv9vBnATXZh2aQTMKAF+S8+NA0+hO0tKES1Iv7cAWLw1XFipY/9xJjCAcUp4vMUfZ9LfsOvUs278QPX7dPfTuoCOwLcDrzJ9rb851JZq3A10Vt2tCf0YrwfKe0WPFa64P7/I5LmajsZV/t/9G7j5dPrHZXorWY5XpjG//U5uwPltgSs7cZMwT/v6gI6kiznt2EiPhJ+uDMfJliv73VXslvRNFXxsAPDoBexwO4DpG4Af9yEjXWkyVycVQ428BjwTkN7QNzK8r7n/73MZn0zWjmu8f7yqbGE1H/ouvxAZ/w1wajEw+ibglNK1YM2H/nEDUI+7FcYuA87kKVvjbwGaljqsK+IZJm9fSwfUVO8+Y8e+jN/d3U4mdcgrXEytMjevbxhS12+w/FrE/YTlOY/pvvUdJzUzHxwxxAwiqs8j5wPDzwN6ZukhRZJW9rurcPuXv/JFYrVvQG/qlBz/RY/rHy41WYxjZ580FOjXyjCSno5h2C+/MuFiFBko+o0wo7rem/FDI82WbDNxDh0Dvv2ukXpvzwO+ut0w7EOfA/+HHXfiKs6DmKdoFKXdWDLePWfR8/tE4M7exlH1d94PBeMtvv9PMqJDXuFOPPevyv/CFPPkGw4gYtymZDRJrSc4sEjiPjrRhE9YRUl1m7nOtv/a9Ky1q9atObpZioiAL4ylUZkDPM7gr9Quh/YdNiO2JJRo7mbzq/9Sr5ZsNUyl++0H9N+4SHUYa9Jqw1QmBJi8lh7dmUctfiysfKT2SSo4dPxEWEJITfya6qibxIjfamOeeIW733Ou52xyruhUnKqpSE7HJf1O4eAy4QvzTP+lmq6l4/FsJO1il0XQftAYvXV9YaxCdix5Wdfucvbtk/TGHGBpqfTRw50HTwaFLvYeCd9zEKxAmle5aSslQ20yVf1aNGeSk/fzfTGTQ/9aA+wqzUOdvUTc7iKV0SGvcCee+1f5OeTkq2Pci/LN0xLOp9zklMX9LBuupQbqMB/73VX01vSFsVbtBOSdXJP0GRtMZur413F+pDlXoiQjgZsuaEvjBdOTdNtzyBg8flWqWiqejAcO88zbAlzUzv22mRc5T7zCnXjx/K6nZBLT9WB5HeOL5mIqv+Z32UT6Qli7Lcofj5BNdfSjLr4YL6RyrWCH/+9zgE4NjVT5Ka8f+hYZgOpgotS3pWEWWRVv6s6O2xT481yTmuZMIStkeyO9zmbc12g8kEVO9OESoGWBMVhIyslap/Qc8gp34sXzK8vnn2YBD55nytmrOeeSF1M9Licx40kr6HEkrXTuSC6fGRhPG/kisSQl7vwQeG4QLWa3AgeOAos4f7rvY2AHVTN17ERI1j6ZuWWZk6r4s4nAl2tNSr+mEaEu5zeyPKpjb6Ga+PsZxkKoGLM4r7v/EzI3O/vDZHCpkX9bBHSk0SSecBMr/v/PszxiJC0q1yaqf1loFpdlgMkmEmPpzEB91GgpOgJRHc/NpErnWNSiv14xpIDznzxKmPLzqYox438ixtpCQ4UYqDxJmknt0npRNGpGE7zWyaKRV3i099zPZRSZT/XTqbe63dQ7ADGcrIXxkOohy2hQaffu3Zg1axb69OmD+vXZKJaiITDaF4nlTr0qqp87Hfd1LKaRtIwVrnRiMVU84e6yRLu+tx8l9RGa2ycYiX1HLyCfElWWzWwhSSsxlGUq7xb1ZY7lnU32xxj+KS2SNKh8cCOXBW4387nb/gFsiCFJMwkVedDcsmWL/e4qzkbzXWLFmW/WRdNWq3s/Mut5UoUd62S2VFRMJeaya1fxtaiVWPHhFHcsTQOzjalUeamB8vAii6AlbwQsY3ljlPMx5JxbTihatGiR81jEC4BlrHiRyuF4klbaZaHdFpbiQ8AyVnw45XQse1hM5ZvfMlblMcupN7R96fDhw9YaWMlWjzoT1T63id+vZGo2epUQkDUxaLRhw4aQk257WEzlWiYqY2lbTvsMVqkPHTqEOXPmhBwn1K3LLQ2WKo2As+G2S5culX43118I4BjpT5PUqlULBw8ehD4ht5QYAppb6Sx2u+G28vhlLWNpk6gklWWsyncK5w2pgbnupNvBorK/WctYAsIyVmW7Qzi+NtzK2YFduwpjUpmrrGYseXxU57BUeQQkrQoKCuyG28pDF3oj6xlLuwZ0+Iml+BE4duyY3XAbP1wRY2Y1Y0kVFFNZqRWx7aM+1Am3IrvhNipEngFRze2eb2ZABBkw9LdmzZpQaaUatm3LgzEsxURAaqAsgdZhekyYYgZmJWPpaK4pU6ZAKo1o69atIcnl3MdEJMcD7Qm3/nSArFQF9WmDdgo45zLoOyJdS2JZio2ApJVUaOudMTZOXqFZyViqdKdOncoYLTTXsowVuzsII82vrHfG2DjFE5q1jKURVx/mOVLLMpZ3d9BXwlKjLWN5Y+UVI2sZSxU/9dRTy0gtqTiWoiPgfCVcsyZPwbFUJQSymrHESC1bmlM65RnDkV5VQixLX9a+SvuVsH+NWwWrIBddT/DssYBTu1PahM5rqC/DxYkMPT2zmsa/5B6QKaOFNi43bMijjC1VGYHEGUu7GdZ/DexeWeVCJDMBKTXdC+qg5tESHs9Lz3WZRoXtgVb9k3peteafUgMd6Z5pEAWxvIkzlmoz53f0AjAqiPUqU6aMHoO73mQYq0yN/L2RWx59e2WNFv7hmtVzLP9gyu6UpAZKBbRuefxrZ8tY/mGZkSnpS+sdO3ZYaeVz61nG8hnQTEtO0krmdfuVsL8tZxnLXzwzLjUZLezcyv9my1jGmkMj33MT/QVkE12zPjEe2EvnBpHIKzzSO+WfvTIZmLam/NP03MtooaPN7FfC/uOfsYw1ez3wqwn+ArKRjPV4DMbyCo+nNC+TsaYExLWP1MAGDRqENizHU3YbJ34EMpax4q+ijRkJAUkqHcZppVUkdKr+rGrrWJXMX1Lmt18Cq+mvuFsz+uy9kH6Ci0wiUpE685DQldvp7pQuTVvx+QMDjX/hZycCm+ln6oYz6DCcf276YoVJk8vV+B7DrneF76abVkm16XSv2oQOCIeeBVzcKfz2Ybp0/QM9Ln6y1JTjKjojd5NXuOLGqpPCxy+hR8fZXEenenknndMFhazRIrktkTKJ9Tn9CZ/7Mucvh03nn8p5Rs/ngZJdpoIfswPe8T4wmr57L2Hnn8wNHUP+BFzzOlBYG+jalIz1Fl2JrgsDsuMAn40EzmhJxuGOpdveAaRqifaxI/f5NfA/i4GrewByqXrla8DI6SZc/+/+O30c02Fc/3aAmOgWvu8mr3CvOn3EvL/NOojp+7YG/uM9M6i480jXtRhLRgu7fzI5LVAjOclWTPX+0cAVXYFRt5qwH54D9H4BePoz4JVrzbN6tYB/DiUT5NExdgPg2jeBF4YAPx1gwiWdPphPhmEnFckP1Rs3ApczXVFdvi/jw3/2B35DBtvAOdP0+4CiOsBdfCaJ+MAY4NY+wLwNwIhp9Bt8P6Vnc/N+d/4OYzlFc0tihyuOV53u+4COxS+mU/JBim0kaudfmut0/nfOY7dqYPJaISWMdYjSYA47cotCYPjYcGV0Vvn0deF7SR4xlahDI/PrMI3upM7JgOBQ3ZrAwA7OHXBpZzrT/sJIBVnemhcAz3weDl9P6biJKuU6/s4m4zRjuMNUinV5lzBjeYV71UkSc9lW4CKX6tmedRJzp5tKSkqs0SLJjZASxtJc5zj1ofpU6apXC9dIjFBMaeJQowifSxXmO6EVfxtT/ZMDbYeakvFE6vRSE8V47vwkBR+6yDzbyXCVSXuJ+dV+iBym1o1XuFed9pCxlP7Rchvqa3IwSSdpp4Uk1mmnnZbOYmR93ilhLEkazZNaUmI9PTiMqSb2NUslVPhp/FdrdpKBeB5ncSlDygiRRyZpz123HRsbw8FTl5ORSjvzCkqQL1eZ+VhvqpMyiEgy9Wpl8vyM80CHvMK96tScdZXEHM8yDexoUt3C/OZScqeTtCBsd1okvwVSNn5qjjNyBvDhAuAY50aTOF+6+nWeoLSvapX8v58CRygVvl7FOdFUY3mTFPvROUble+ITw3wbdhvjxBgaR2pxOJExoXsz4MnxjEcG1ZxKFkKHvMIVz6tOQ/sC78yiO6TlpgyPfWwMGU4e6fi1RovUoJ4SiaWqPDbI7Gi47k1jodP85oGBZc3jla1yF85XNpJhGjwCHDhi0nr2KpPKWW2Bt28BZED4JedZckt0SWdaDb9jwsV8Y+4wVsWOz5hnwwYYCaY7r3DF8arTz68wA8eVI8xgMqgLDTat9GZ6yO60SB3u1fiRG2cCCZC+Hh53a6W/x5J00dag1pzv+EXbqQ5KBZT1LxLJaCFzvCRVJJKKVkBV1T1fc8fzCveq00EyvZYZNCesNOl7rMFvcSJYdeVi3rx5oexPP/30ShfDvlApBEZH6WqVSqRSkTWn8pOplHnDCEYPd6G02ByLNF+KRV7hXnUSw0Zj2lj5+hmmMy30eUj37t39TNamFQWBqg+DURK2j4OFgOZWOtNCR8JZSj4ClrGSj3Hac3DOtLALwqlrCstYqcM6bTnp7HqdaWEZK3VNYBkrdVinLSfttNAXwlIFLaUGActYqcE5bbnIN5g9iDP18FvGSj3mKc1R0kqnABcXF6c031zPzDJWFvcAuS/atGmTPYgzDW1ctXWsM+4C2l2WhmKnJ8sTPOa5WujrqhTmX3RqwpmJqcRc9rCYhCFM+MWqMVZLbgDUXw6QvEHOnDUbLVu0QKtWLTOixlIDmzZtCjnis5RaBBJHXFtsSj+3SG2R05NbXvU8NCdTrVi5EvsOHAg5tgvy17e7du3C3r170aULNyhaSjkCiTNWyoua/gzbtGkT8gq5aNEiyNqm7UFB9SUlaVVYWIj69T32a6Uf1qwsgTVeVLJZdcZ5r169QufxzZw5E3KGHTTSCUxaFG7VKo1b6YMGSorLYxkrAcDl0K53794hM/asWbNCnTiBZJL2ivYFal7VpAm/q7GUFgQsYyUIuzpuz549Qxa3hQsXYvXq1Qmm5O9r2hcoNVDbl4I8B/S31sFLzc6xqtgmHTt2DM27li9fHlILu3btyqMA0jdeyeu9HHRbJ3JVbNgqvp74h45VzDjbXpcVbsGCBaHjmmXUSKWvKW1ZWrx4cUhKaW4lVdUeFpPWHjY6fUNrWuvtf+ZFRUWheZcWZGXU2L2bZwaQZEhYSRN9oh9qx1NSGVCUj9RRmdi15hZEo0o8dcmWOJaxfGzJ/Pz8kMVQZu45c+ZARoS5c+dizZo1WLdunY85lU1Kn4SIHObV8WbTp0/HAa63WUoPApaxfMY9Ly8vtL7VunVrrF27NrTepSxWrVoFnemXDHIYy522tjFp862l9CBgGStJuIvBJDEcKaLfZcuWJSU3MZaTjyyB+vze7rhICtRxJ2oZK26o4o+og1s0r3KTOr6OH5Oa5jc5klBMJX9X3bp18zsLm14lEbCMVUnA4omuuZascurkIvd60tKlS09Kl3jSiieOowoWFBSgR48eZfKL530bx38E7DqW/5iGUtSucv1JmmhtSYu2kmS619yrbVueKOoTyQooE7sWrNO5huZTdbIiGbuO5dGM+3jQ5lYeCOoHHdq/B3t3bELNWnVQ2MS/fXwH9+5ErTr1UT0vteNkY57nKNdLliogkPoDOysUIeAPJnKn0n+O86uQPFcb+vObfDxWuBJF+91gOvPrVIkXciiqnWPlUGPbqqYOActYqcPa5pRDCFjGyqHGtlVNHQKWsVKHtc0phxCwjJVDjW2rmjoELGOlDmubUw4hYBkrhxrbVjV1CFjGSh3WNqccQiC1S/U5BGwiVT2fu5y04NqQX3t8sAQozqePZbpx/ZT7eW8/A/iGTsgvYBzteHhpKjCwHd3O8pCosa5N88POBabw068v1yZSAvuOXwhYieUXklVM58J2wIghxvH59BLgkfOB4ecBPZuZhAcw/BcXm3ttI9p3BLiIz/q0MOHO/6vImJ2t00YHjrT9WomVNujLZvzEAOC9BcCjE83zCasoqW4rG+fgUeCGvwHHE3PHXjYxe5dUBKzESiq88SVeVBs4hdv9xEwOLeNnW2vNsRnOI8zbbJnqJBgBv7CMFYAGKuJcSlTC+ZSbdh103wE7IhxhUf74/Jp5Zd+xd+lBwDJWenAvk+t6Sqb9nDP1cB1cKwNFd9d9mRdKbw4dA+rWDIfkkcta2KPaw4Ck8crOsdIIvpP1Mc6Z/jQLeJDGipoc6hZvA+45S18eOzEi/66klfAaOhM5pQjYRmkmi6CYy+O1yInZp74iYBnLVzgTT+z5KYaRfnI2UJut8peFQJtCQFIpGv1hJnAWXXVNGgrIsKF3Jq/hMWjRXrDPU4aAZayUQR07o/6tATHKr74y8SR1ru0a/np56AcV39+8D7j6PbOutZdfOou5LAUDActYwWgH3NsPOMB51qMT+EsGuaMXkM/506TV3gX06+gA75xsjHgRsIwVL1JJjjf8U+C+c7jj4kZjkJBp/bZ/ABvKWQqTXAybvE8IWMbyCciqJqPtSvd+ZAwPeTRgHD1e1RTt++lEwJrb04l+hLxleLBMFQGYDHtkGSvDGswWNzMQsIyVGe1kS5lhCFjGyrAGs8XNDASs8cKjndpxc+xQfgtlqSICwsZSZATsEdORcTn59EiMnQ8nI8VxIQ+Lq1auQJeu3UIe7eN4xfco8k28ZPFCtGvfIeQ32Y8M7KbfiCjaI6YjwuJ66EfH2bRpE+RlRO5UlV6NNO1Ar0aTY3Vu6Zg3ZyY6d+6MZs1Kv6J01dde+oOAlVj+4BgxFfnEWr58ecjTiLyLtG/fPmK8VD+U7y65b23ZsiU6duxo3f743wCjLWP5D2ooRbnrWbhwYchVqrwrNm7cOEk5JZbs1q1bsWTJkpD7Hzmqq12bX1ta8gsBy1h+IelOZ+fOnSGmqlWrVsgfcVB9AcuV64IFC3D48OGQF0jHUZ67LvY6IQQsYyUEW4yX5FROqlaTJk1CfoCD7gju+PHjIcm1ZcuWkKrapk2bGLWzQXEiYI0XcQLlGU1eFRcvXhzyM9yhQwe0atXK850gRBDjy61rYWEhVqxYgd27d6Nr166Qc3JLiSNg51iJY3fyTZnSNZ8Sc2m+ok6aiSSmUj3EVKpHvXr1MrEaQSizVQUr2wqal6jjaf4kkn9hmdLlWFudsWZN1yEUlU08APHlKFzMtWfPnpBJXn6URZqHaeAI6nwxANC5i2AZy42G17UWWKdNmxZa4O3Tp09oLrV+/Xq0bt0aUv+yiaQWrlu3LqTSaplgxowZUP3PPvvstC1wZxC+lrEq01iLFi2CJvkiLfbu3bs3NKrLUJGNpLpKGtevXx+7du0KVVF11ZzMUkwERttNuDHxCQfu2LEjpPZp0Vd/MqnLgpatTKWaq26qo+rq1Fuqr7CwFBsBy1ix8QmFyiQti195klldc5FsJdVNdSxPwkKYWIqOgGWs6NicDFHn0qTeoWqlB/7VrVs3q7cDqZ6qo8ips66FRSSGU5glg4A1t3v0BI3aM2fyXLJSklWsefPmITUpVyxksoRqvrVx40bo2qHevXuHrKHOvf09iYBdID4JRZQLMZZGbZmdNedwRvAo0eN7zDma5zG38aUUf6wq5KkBRJuI9bd///4Qk2muJWy0zGCpIgLJk1gv0nuapYoIdLqW3uXervg8FU/G3gIs+3sqcsq8PO4LS2IfCp9EiXXsoA/ly8IkjofnaimvnfK27ZIS2K3xIiUw20xyDQHLWLnW4ra+KUHAMlZKYLaZ5BoClrFyrcVtfVOCQFYz1m6f7Sd+p5eSFvYhk1GzgLH0vRWN5m2g+6EJ0UKBTdyc8sR4YO+hyHG8wiO/FeynWctY99Cq/Jt/+Qf+uEXA5X/0L71MSukdro+PZf2jkRjruYnRQoGNZKzHYzCWV3j0lIMbkrWMNXWNv6DP3wjso3M3SxURuLk3v0t7ouLzXH4S2JNwpR5oFJxTAjTj4v6tfYDL6G9XJAdt99J31PCLgA6lhx+toxscqRvPDgFGTAVWbaevqQX0ycuh46GLgVcmA+0bAkv41cdny+hIuzlPuKWf39OamTRfnAS0LAS+d6a51/9HPwIG8jOrGkzjb3MB5fHD96n2XAUUmy104chZfsW9IiFchWkDrv3fTuwu7GgqPZXO8aQuvniNuT9Mx3l/oOvXT5YS0yLgqnJfmXiFK5XZ64Hffgms3gF0Yxs9eKFJS2Fqy05NgPX8kuVDliefvfjOfsAlnRUaDGKXCR7t2A/0/jUwbjHw7e7AcbbqkBHAq6VuRNUwr02j7u5yyraN7+jZfkqVrvzotR5P82rFRlWjiD5eQkZ6F3hvNnAjmUcS6MJXTeMoXKre1+wgbnqfcRWvKT3Rt25Ah3D8aPjstkCtPHes3Lh+awbwLvG4oiuw8wB/qRYvJDai5duAkQx36G6q4U/RkV7/dvzymG11yztOiPn1Cv+cA9+5L3NOxra8/gxA2kfP54ES80lYqC1/9FfgjX8DF3fimjf7x2Usz4LS8pTNLT135PXg0TOfA3s40V35MDsxS3jPtwyTDB9rpIxXia/sZnT6vq3po7dHOPZhHhf95T3mJNrb+gIdnwGe/owjI3cZxSJJtX5kqOVbKbHOiRUze8Nac5AadydCJ/lK0jd61AxE3Sj53TS3hJKNA9z8+zmolYZ15++w0SaWV7hi3c+4YuBRt5p3hHnvF0xbvVLaVvU4yE28iyf7UjTc3Z+D3+NGE1FeQaBASqyZ6yjWORKJqRwaQmbZTWZbstl5UvlfqQru450H8X4G87LkjUAfDlLOcdt1ahqmKdld8b3ZZCyp7g5TKcblpSq8rr3CDx2l+r8B0K8GUudPKv10V1tp0BRTifQr7UQSLijk6rpBKRKw62B47uOUSo0lkth3SBu2HYrHeUG7Yie2+W1Yt6xBwp2eYkjCWTIIFOaXRaIab8vjpRhSE6W6uzfTuwczr3Ataej9+lTldc68Q5dyECzm3M4hSSw35bniup+n6zqQjNWRBomPFpeFRPcyIsjoIOBF7hFKxgov+nx52RiaXPduZZ7VJhLu9I6SqdaV6vSKEbB2K1uRAN31piTZzLmvJFOvUmxlLHLIK7xJfaCQTCVD0tODnbeA8ZwjOxIz/DS4V6XCNFgF/PG5ZkL87ATOtTiCTVoB/H6KMWSIAaSKSOeX9U/h32wzk2V3LRpRGi2i2rjBpa7Iwvj6NGNV1K8a/weca4k6NwHGcBFU8yiNmpoTHOPX586oLOmmtJbSqiimsxQZAalo3TknfXK8saJqTiULoUNe4Yp3F+dMMobI4qc2UPtf/TqwdZ+TSvB/A8lYA2jiHvE9QEaMJo8Bg0cAZ7YE3r45DOir3zWT1eJHgb4vcsI7MBymq2t6AH+dSyveS+HnMp3//DOaix8BHvmIVkamcRHncqJhA4BTqCp2+gXnCI/z8/NjZp5X+hU+LjjVmO67/LKsrh962f47iUA+B70xd9CCx0FIxiHhP7jryWB4hSvmY4OM5fa6N4GChzn4vQs8MNBYCMMpBfsqeR86Pl915UnSQupYc86vIqkBOs9kPRuwFdUGZyLrhlumXnmgl5lc5vo2NJn/jsyk9Q+pGg7TuN/R+lkBVRG9E4k0R9A6TsLU+XoW5v2EX6/Si6M5Wi39S5WSqMzLW6gSCksxUyTyCtfgpvbQUkfSaRg7m3+UxA8dfSikOr6YIRqJmWKFy6oYiT9kQYpGjpEkWniVmCpaoln6XPOlWOQVrsE0JUwVq5AJhgVSFUywLjFfE0No9LRkEUgFAoG0Ciaj4iNd87NkpG/TtAi4EcgZieWutL22CCQbActYyUbYpp+TCFjGyslmt5VONgKWsZKNsE0/JxFInvGiZf+cBNSz0sVdPKMkLYLytu2SNHjdCSdvgdidi70ui8AJrnxW4yJNKikdeaayfsHKy/rHSkt7pJqpVMl05JkWcIORqZ1jBaMdbCmyDAHLWFnWoLY6wUDAMlYw2sGWIssQsIyVZQ1qqxMMBP4/vqW/b5ItHHsAAAAASUVORK5CYII=)"
   ]
  },
  {
   "cell_type": "code",
   "execution_count": 81,
   "metadata": {
    "colab": {
     "base_uri": "https://localhost:8080/"
    },
    "id": "CvSYACfZQ660",
    "outputId": "b1a0efbb-7905-46eb-b73b-8214e78844e2"
   },
   "outputs": [
    {
     "name": "stdout",
     "output_type": "stream",
     "text": [
      "96\n",
      "100\n"
     ]
    }
   ],
   "source": [
    "TARGET_MAX_LENGTH = output_lang.max_seq_length + 1 #since the we are adding the EOS and SOS tokens\n",
    "print(TARGET_MAX_LENGTH)\n",
    "\n",
    "INPUT_MAX_LENGTH = input_lang.max_seq_length + 1 #since the we are adding the EOS and SOS tokens\n",
    "print(INPUT_MAX_LENGTH)"
   ]
  },
  {
   "cell_type": "code",
   "execution_count": 82,
   "metadata": {
    "id": "D-4LzxgcQ0nH"
   },
   "outputs": [],
   "source": [
    "class EncoderRNN(nn.Module):\n",
    "    def __init__(self, input_size, hidden_size, n_layers=1, bidirectional=False, method='GRU',verbose = False):\n",
    "        super(EncoderRNN, self).__init__()\n",
    "        self.hidden_size = hidden_size\n",
    "        self.hidden_var = hidden_size // 2 if bidirectional else hidden_size\n",
    "        self.n_layers = n_layers\n",
    "        self.bidirectional = bidirectional\n",
    "        self.n_directions = 2 if bidirectional else 1\n",
    "        self.method = method\n",
    "        self.verbose = verbose\n",
    "        #An embedding to represent each word as a vector. Here our embedding length is 256\n",
    "        self.embedding = nn.Embedding(input_size, hidden_size)\n",
    "\n",
    "        if(self.method=='GRU'):\n",
    "          # gru returns hidden state of all timesteps as well as hidden state at last timestep\n",
    "          self.net = nn.GRU(hidden_size, hidden_size,num_layers=self.n_layers, bidirectional=self.bidirectional)\n",
    "        elif self.method == 'LSTM':\n",
    "          self.net = nn.LSTM(hidden_size,self.hidden_size, num_layers=self.n_layers,  bidirectional=self.bidirectional)  # out: tensor of shape (seq_length,batch_size,  hidden_size*n_directions)\n",
    "\n",
    "    def forward(self, input, hidden):\n",
    "        embedded = self.embedding(input).view(1, 1, -1)\n",
    "        output = embedded\n",
    "        #Forward propagate\n",
    "        output, hidden = self.net(output, hidden)\n",
    "\n",
    "        if self.verbose:\n",
    "            print('Encoder input', input.shape)\n",
    "            print('Encoder output', output.shape)\n",
    "            print('Encoder hidden', hidden.shape)\n",
    "\n",
    "        return output, hidden\n",
    "\n",
    "    def initHidden(self):\n",
    "        if self.method == 'GRU':\n",
    "          return torch.zeros(self.n_layers * self.n_directions, 1, self.hidden_size, device=device)\n",
    "        elif self.method == 'LSTM':\n",
    "          #Set initial states\n",
    "          h_state = torch.zeros(self.n_layers * self.n_directions, 1, self.hidden_size, device=device)\n",
    "          c_state = torch.zeros(self.n_layers * self.n_directions, 1, self.hidden_size, device=device)\n",
    "          hidden = (h_state, c_state)\n",
    "          return hidden"
   ]
  },
  {
   "cell_type": "markdown",
   "metadata": {
    "id": "U7DkVWVHAAaN"
   },
   "source": [
    "**Computation Graph of Decoder**\n",
    "\n",
    "![decoder-network.png](data:image/png;base64,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)"
   ]
  },
  {
   "cell_type": "code",
   "execution_count": 83,
   "metadata": {
    "id": "QI1CsnIx_qRj"
   },
   "outputs": [],
   "source": [
    "class DecoderRNN(nn.Module):\n",
    "    def __init__(self, hidden_size, output_size):\n",
    "        super(DecoderRNN, self).__init__()\n",
    "        self.hidden_size = hidden_size\n",
    "\n",
    "        self.embedding = nn.Embedding(output_size, hidden_size)\n",
    "        self.gru = nn.GRU(hidden_size, hidden_size)\n",
    "        self.out = nn.Linear(hidden_size, output_size)\n",
    "        self.softmax = nn.LogSoftmax(dim=1)\n",
    "\n",
    "    def forward(self, input, hidden):\n",
    "        output = self.embedding(input).view(1, 1, -1)\n",
    "        output = F.relu(output)\n",
    "        output, hidden = self.gru(output, hidden)\n",
    "        output = self.softmax(self.out(output[0]))\n",
    "        return output, hidden\n",
    "\n",
    "    def initHidden(self):\n",
    "        return torch.zeros(1, 1, self.hidden_size, device=device)"
   ]
  },
  {
   "cell_type": "code",
   "execution_count": 84,
   "metadata": {
    "id": "QoqEW6f6Q9qK"
   },
   "outputs": [],
   "source": [
    "class AttnDecoderRNN(nn.Module):\n",
    "    def __init__(self, hidden_size, output_size, n_layers=1, dropout_p=0.1, max_length=INPUT_MAX_LENGTH, method='GRU', bidirectional=False):\n",
    "        super(AttnDecoderRNN, self).__init__()\n",
    "\n",
    "        #Define parameters\n",
    "        self.hidden_size = hidden_size\n",
    "        self.output_size = output_size\n",
    "        self.dropout_p = dropout_p\n",
    "        self.max_length = max_length\n",
    "        self.n_layers = n_layers\n",
    "        self.method = method\n",
    "        self.bidirectional = bidirectional\n",
    "\n",
    "        #Define layers\n",
    "        self.embedding = nn.Embedding(self.output_size, self.hidden_size)\n",
    "        #decoder’s input and hidden state as ip to attn layer\n",
    "        self.attn = nn.Linear(self.hidden_size * 3, self.max_length)\n",
    "        # self.attn = GeneralAttn(hidden_size)\n",
    "        self.attn_combine = nn.Linear(self.hidden_size * 3, self.hidden_size)\n",
    "        self.dropout = nn.Dropout(self.dropout_p)\n",
    "\n",
    "        if self.method == 'GRU':\n",
    "            self.net = nn.GRU(self.hidden_size, self.hidden_size, num_layers=self.n_layers, bidirectional = self.bidirectional)\n",
    "        elif self.method == 'LSTM':\n",
    "            self.net = nn.LSTM(self.hidden_size, self.hidden_size, num_layers=self.n_layers, bidirectional = self.bidirectional)\n",
    "\n",
    "        self.out = nn.Linear(self.hidden_size*2, self.output_size)\n",
    "\n",
    "    def forward(self, input, hidden, encoder_outputs):\n",
    "        #Embed - Get the embedding of the current input word (last output word)\n",
    "        embedded = self.embedding(input).view(1, 1, -1)   # S=1 x B x N\n",
    "        embedded = self.dropout(embedded)\n",
    "        self.hidden = hidden\n",
    "\n",
    "        # Concatenate all of the layers\n",
    "        hidden_h_rows = ()\n",
    "        hidden_c_rows = ()\n",
    "\n",
    "        if self.method == 'LSTM':\n",
    "            # hidden is a tuple of h_state and c_state\n",
    "            decoder_h, decoder_c = hidden\n",
    "            print(decoder_h.shape)\n",
    "            hidden_shape = decoder_h.shape[0]\n",
    "\n",
    "            # h_state\n",
    "            for x in range(0, hidden_shape):\n",
    "                hidden_h_rows += (decoder_h[x],)\n",
    "\n",
    "            # c_state\n",
    "            for x in range(0, hidden_shape):\n",
    "                hidden_c_rows += (decoder_c[x],)\n",
    "\n",
    "        elif self.method == \"GRU\":\n",
    "              # Calculate attention weights and apply to encoder outputs \n",
    "              attn_weights = F.softmax(self.attn(torch.cat((embedded[0], hidden[0], hidden[1]), 1)), dim=1)\n",
    "\n",
    "              attn_applied = torch.bmm(attn_weights.unsqueeze(0),encoder_outputs.unsqueeze(0))\n",
    "              # Combine embedded input word and attended context, run through RNN\n",
    "              output = torch.cat((embedded[0], attn_applied[0]), 1)\n",
    "              output = self.attn_combine(output).unsqueeze(0)\n",
    "              output = F.relu(output)\n",
    "\n",
    "              output, hidden = self.net(output, hidden)\n",
    "              # Final output layer\n",
    "              #Decode the hidden state of the last time step\n",
    "              # Normalize attention to weights in range 0 to 1, resize to 1 x 1 x seq_len\n",
    "              output = F.log_softmax(self.out(output[0]), dim=1)\n",
    "              #Return final output, hidden state, and attention weights (for visualization)\n",
    "              return output, hidden, attn_weights\n",
    "\n",
    "        if self.bidirectional:\n",
    "                decoder_h_cat = torch.cat(hidden_h_rows, 1)\n",
    "                # Make sure the h_dim size is compatible with num_layers with concatenation.\n",
    "                decoder_h = decoder_h_cat.view((self.n_layers, 1, self.hidden_size))\n",
    "\n",
    "                if self.method == \"LSTM\":\n",
    "                    decoder_c_cat = torch.cat(hidden_c_rows, 1)\n",
    "                    decoder_c = decoder_c_cat.view((self.n_layers, 1, self.hidden_size))\n",
    "                    hidden_lstm = (decoder_h, decoder_c)\n",
    "\n",
    "                    attn_weights = F.softmax(self.attn(torch.cat((embedded[0], hidden_lstm[0][0]), 1)), dim=1)\n",
    "        \n",
    "                    #attention weights * encoder outputs = find inf abt specific part from i/p seq so decoder chooses right output words\n",
    "                    attn_applied = torch.bmm(attn_weights.unsqueeze(0),encoder_outputs.unsqueeze(0))\n",
    "\n",
    "                    output = torch.cat((embedded[0], attn_applied[0]), 1)\n",
    "                    output = self.attn_combine(output).unsqueeze(0)\n",
    "\n",
    "                    output = F.relu(output)\n",
    "\n",
    "                    output, hidden = self.net(output, hidden_lstm)\n",
    "                     #Decode the hidden state of the last time step\n",
    "                    output = F.log_softmax(self.out(output[0]), dim=1)\n",
    "                    return output, hidden, attn_weights\n",
    "\n",
    "    def initHidden(self):\n",
    "        if self.method == 'GRU':\n",
    "            return torch.zeros(self.n_layers * self.n_directions, 1, self.hidden_size, device=device)\n",
    "        elif self.method == 'LSTM':\n",
    "            h_state = torch.zeros(self.n_layers * 1, 1, self.hidden_size, device=device)\n",
    "            c_state = torch.zeros(self.n_layers * 1, 1, self.hidden_size, device=device)\n",
    "            hidden = (h_state, c_state)\n",
    "            return hidden"
   ]
  },
  {
   "cell_type": "code",
   "execution_count": 85,
   "metadata": {
    "id": "fe5OoF5TlsYn"
   },
   "outputs": [],
   "source": [
    "n_layers=1\n",
    "bidirectional = True\n",
    "hidden_size = 256\n",
    "encoder1 = EncoderRNN(input_lang.n_words, hidden_size, n_layers=n_layers,  method='GRU', bidirectional=bidirectional).to(device)\n",
    "attn_decoder1 = AttnDecoderRNN(hidden_size, output_lang.n_words, n_layers=n_layers,method='GRU', bidirectional=bidirectional).to(device)"
   ]
  },
  {
   "cell_type": "code",
   "execution_count": 86,
   "metadata": {
    "colab": {
     "base_uri": "https://localhost:8080/"
    },
    "id": "e_oTKsK7oBow",
    "outputId": "afedaf8d-21e5-49b0-9487-4d559cf0be42"
   },
   "outputs": [
    {
     "data": {
      "text/plain": [
       "AttnDecoderRNN(\n",
       "  (embedding): Embedding(29898, 256)\n",
       "  (attn): Linear(in_features=768, out_features=100, bias=True)\n",
       "  (attn_combine): Linear(in_features=768, out_features=256, bias=True)\n",
       "  (dropout): Dropout(p=0.1, inplace=False)\n",
       "  (net): GRU(256, 256, bidirectional=True)\n",
       "  (out): Linear(in_features=512, out_features=29898, bias=True)\n",
       ")"
      ]
     },
     "execution_count": 86,
     "metadata": {},
     "output_type": "execute_result"
    }
   ],
   "source": [
    "attn_decoder1"
   ]
  },
  {
   "cell_type": "code",
   "execution_count": 87,
   "metadata": {
    "colab": {
     "base_uri": "https://localhost:8080/"
    },
    "id": "mzPVHMPxo0kK",
    "outputId": "c8d58d1c-7263-4731-cdc5-5b657ef761f2"
   },
   "outputs": [
    {
     "data": {
      "text/plain": [
       "EncoderRNN(\n",
       "  (embedding): Embedding(45413, 256)\n",
       "  (net): GRU(256, 256, bidirectional=True)\n",
       ")"
      ]
     },
     "execution_count": 87,
     "metadata": {},
     "output_type": "execute_result"
    }
   ],
   "source": [
    "encoder1"
   ]
  },
  {
   "cell_type": "code",
   "execution_count": 88,
   "metadata": {
    "id": "vCj3ImSNRG38"
   },
   "outputs": [],
   "source": [
    "#This is a helper function to print time elapsed and estimated time remaining given the current time and progress %.\n",
    "import time\n",
    "import math\n",
    "\n",
    "def asMinutes(s):\n",
    "    m = math.floor(s / 60)\n",
    "    s -= m * 60\n",
    "    return '%dm %ds' % (m, s)\n",
    "\n",
    "\n",
    "def timeSince(since, percent):\n",
    "    now = time.time()\n",
    "    s = now - since\n",
    "    es = s / (percent)\n",
    "    rs = es - s\n",
    "    return '%s (- %s)' % (asMinutes(s), asMinutes(rs))"
   ]
  },
  {
   "cell_type": "code",
   "execution_count": 89,
   "metadata": {
    "id": "LitLQH3ARDU2"
   },
   "outputs": [],
   "source": [
    "#Using teacher forcing causes it to converge faster\n",
    "teacher_forcing_ratio = 0.5\n",
    "#0.7\n",
    "clip = 5.0\n",
    "\n",
    "def train(input_tensor, target_tensor, encoder, decoder, encoder_optimizer, decoder_optimizer, criterion, input_max_length=INPUT_MAX_LENGTH, target_max_length = TARGET_MAX_LENGTH):\n",
    "    encoder_hidden = encoder.initHidden()\n",
    "    # Zero gradients of both optimizers - Resetting\n",
    "    encoder_optimizer.zero_grad()\n",
    "    decoder_optimizer.zero_grad()\n",
    "\n",
    "    input_length = input_tensor.size(0)\n",
    "    target_length = target_tensor.size(0)\n",
    "\n",
    "    input_tensor = input_tensor.to(device)\n",
    "    target_tensor = target_tensor.to(device)\n",
    "\n",
    "    encoder_outputs = torch.zeros(input_max_length, encoder.hidden_size*2 , device=device) ## Changed\n",
    "\n",
    "    loss = 0\n",
    "\n",
    "    #Pass the input sentence through the ENCODER and keep track of every output and the latest hidden state\n",
    "    for ei in range(input_length):\n",
    "        encoder_output, encoder_hidden = encoder(input_tensor[ei], encoder_hidden)\n",
    "        encoder_outputs[ei] = encoder_output[0, 0]\n",
    "\n",
    "    #decoder is given the <SOS> token as its first input\n",
    "    decoder_input = torch.tensor([[SOS_token]], device=device)\n",
    "    #decoder hidden state (\"context vector\" of input sentence ) ; last hidden state of the encoder as its first hidden state\n",
    "    decoder_hidden = encoder_hidden\n",
    "\n",
    "    #since using the \"Teacher forcing\" - passing the actual output sentence as the input to decoder\n",
    "    if(random.random() < teacher_forcing_ratio):\n",
    "      use_teacher_forcing = True\n",
    "    else:\n",
    "      use_teacher_forcing = False\n",
    "\n",
    "    if use_teacher_forcing:\n",
    "        #Teacher forcing: Feed the target as the next input\n",
    "        for di in range(target_length):\n",
    "            decoder_output, decoder_hidden, decoder_attention = decoder(decoder_input, decoder_hidden, encoder_outputs)\n",
    "            loss += criterion(decoder_output, target_tensor[di])     #For each decoder step (not the RNN step), compute the loss\n",
    "            decoder_input = target_tensor[di]  # Teacher forcing via decoder_input\n",
    "\n",
    "    else:\n",
    "        #Without teacher forcing: use its own predictions as the next input\n",
    "        for di in range(target_length):\n",
    "            decoder_output, decoder_hidden, decoder_attention = decoder(decoder_input, decoder_hidden, encoder_outputs)\n",
    "            \n",
    "            #Get the index of best output word, and pass it as input to next decoder step\n",
    "            topv, topi = decoder_output.topk(1)\n",
    "            decoder_input = topi.squeeze().detach()  # detach from history as input\n",
    "\n",
    "            loss += criterion(decoder_output, target_tensor[di])\n",
    "            if decoder_input.item() == EOS_token:\n",
    "                break\n",
    "\n",
    "    #backpropagate the loss \n",
    "    loss.backward()\n",
    "    #Clipping the gradient after the backward pass\n",
    "    torch.nn.utils.clip_grad_norm_(encoder.parameters(), clip)\n",
    "    torch.nn.utils.clip_grad_norm_(decoder.parameters(), clip)\n",
    "    #apply the gradients using the optimization update step - update parameters\n",
    "    encoder_optimizer.step()\n",
    "    decoder_optimizer.step()\n",
    "\n",
    "    return loss.item()/target_length"
   ]
  },
  {
   "cell_type": "code",
   "execution_count": 90,
   "metadata": {
    "id": "EzYg92xGRdhu"
   },
   "outputs": [],
   "source": [
    "#torch.no_grad removes the ability to perform backprop (that's fine as we're 'evaluating' our model)\n",
    "#but speeds up computation and reduces RAM consumption\n",
    "def evaluate(encoder, decoder, pair, input_max_length = INPUT_MAX_LENGTH, target_max_length = TARGET_MAX_LENGTH):\n",
    "    with torch.no_grad():\n",
    "\n",
    "        #Prepare input and output tensors from the sentences\n",
    "        input_tensor = tensorFromSentence(input_lang, pair[0])\n",
    "        target_tensor = tensorFromSentence(output_lang, pair[1])\n",
    "        input_length = input_tensor.size()[0]\n",
    "        target_length = target_tensor.size()[0]\n",
    "\n",
    "        input_tensor = input_tensor.to(device)\n",
    "        target_tensor = target_tensor.to(device)\n",
    "\n",
    "        #Run through encoder\n",
    "        #Generate the output sentence \n",
    "        encoder_hidden = encoder.initHidden()\n",
    "\n",
    "        encoder_outputs = torch.zeros(input_max_length, encoder.hidden_size*2, device=device) ## Changed\n",
    "\n",
    "        loss = 0\n",
    "\n",
    "        for ei in range(input_length):\n",
    "            encoder_output, encoder_hidden = encoder(input_tensor[ei],encoder_hidden)\n",
    "            encoder_outputs[ei] += encoder_output[0, 0] #BUG '+'\n",
    "\n",
    "        #Create starting vectors for decoder\n",
    "        decoder_input = torch.tensor([[SOS_token]], device=device)  #SOS\n",
    "        decoder_hidden = encoder_hidden\n",
    "        decoded_words = []\n",
    "        decoder_attentions = torch.zeros(input_max_length, input_max_length)\n",
    "\n",
    "        #Run through decoder\n",
    "        for di in range(target_length):\n",
    "            decoder_output, decoder_hidden, decoder_attention = decoder(decoder_input, decoder_hidden, encoder_outputs)\n",
    "            #store the decoder’s attention outputs\n",
    "            decoder_attentions[di] = decoder_attention.data\n",
    "            #Choose top word from output\n",
    "            topv, topi = decoder_output.data.topk(1)\n",
    "\n",
    "            loss += criterion(decoder_output, target_tensor[di]).item()\n",
    "\n",
    "            #if prediction is EOS, STOP!!!\n",
    "            if topi.item() == EOS_token:\n",
    "                decoded_words.append('<EOS>')\n",
    "                break\n",
    "            else:\n",
    "                decoded_words.append(output_lang.index2word[topi.item()])   #else add to output string \n",
    "\n",
    "            #feed the decoder’s predictions back to itself  - # Next input is chosen word\n",
    "            decoder_input = topi.squeeze().detach()\n",
    "\n",
    "        return decoded_words, decoder_attentions, loss/target_length"
   ]
  },
  {
   "cell_type": "code",
   "execution_count": 91,
   "metadata": {
    "id": "jgJo-J_YRP8X"
   },
   "outputs": [],
   "source": [
    "learning_rate=0.001\n",
    "encoder_optimizer = optim.Adam(encoder1.parameters(), lr=learning_rate)\n",
    "decoder_optimizer = optim.Adam(attn_decoder1.parameters(), lr=learning_rate)\n",
    "\n",
    "#lr=0.001, hidden - 256 -------- very bad!!!!!\n",
    "# encoder_optimizer = optim.SGD(encoder1.parameters(), lr=learning_rate)\n",
    "# decoder_optimizer = optim.SGD(attn_decoder1.parameters(), lr=learning_rate)"
   ]
  },
  {
   "cell_type": "code",
   "execution_count": null,
   "metadata": {
    "colab": {
     "base_uri": "https://localhost:8080/"
    },
    "id": "gO9ecnVzpnqE",
    "outputId": "385a2831-d6c9-411c-872c-4e57fff03eef"
   },
   "outputs": [],
   "source": [
    "encoder_optimizer"
   ]
  },
  {
   "cell_type": "code",
   "execution_count": 113,
   "metadata": {
    "id": "aL3P3CW5RUAA"
   },
   "outputs": [],
   "source": [
    "# criterion = nn.NLLLoss()\n",
    "criterion = nn.CrossEntropyLoss()"
   ]
  },
  {
   "cell_type": "code",
   "execution_count": 93,
   "metadata": {
    "id": "06kksAeURWUS"
   },
   "outputs": [],
   "source": [
    "SAVE_PATH = './encoder_decoder_model_50.tar'\n",
    "\n",
    "# #### General checkpoint saving for inference or resuming training\n",
    "torch.save({\n",
    "            'encoder_state_dict': encoder1.state_dict(),\n",
    "            'attndecoder_state_dict': attn_decoder1.state_dict(),\n",
    "            'encoder_optimizer_state_dict': encoder_optimizer.state_dict(),            \n",
    "            'decoder_optimizer_state_dict' : decoder_optimizer.state_dict(),\n",
    "            'criterion' : criterion.state_dict(),\n",
    "            }, SAVE_PATH)"
   ]
  },
  {
   "cell_type": "code",
   "execution_count": 94,
   "metadata": {
    "id": "gr1U4g0fRbb4"
   },
   "outputs": [],
   "source": [
    "#to do plotting\n",
    "import matplotlib.pyplot as plt\n",
    "plt.switch_backend('agg')\n",
    "import matplotlib.ticker as ticker\n",
    "import numpy as np"
   ]
  },
  {
   "cell_type": "code",
   "execution_count": 95,
   "metadata": {
    "id": "j6z37IG5Rheh"
   },
   "outputs": [],
   "source": [
    "from nltk.translate.bleu_score import sentence_bleu\n",
    "from nltk.translate.bleu_score import SmoothingFunction"
   ]
  },
  {
   "cell_type": "code",
   "execution_count": 96,
   "metadata": {
    "id": "tmDZOBM6Rzo6"
   },
   "outputs": [],
   "source": [
    "def trainIters(encoder, decoder, encoder_optimizer , decoder_optimizer, n_iters, print_every=10000, plot_every=10000):\n",
    "    # Keep track of time elapsed and running averages\n",
    "    start = time.time()\n",
    "    train_plot_losses = []\n",
    "    val_plot_losses = []\n",
    "    train_plot_bleu_scores = []\n",
    "    val_plot_bleu_scores = []\n",
    "    max_val_bleu_score = -1.0\n",
    "\n",
    "    print_loss_total = 0  # Reset every print_every\n",
    "    plot_loss_total = 0  # Reset every plot_every\n",
    "    print_bleu_total = 0\n",
    "\n",
    "    training_pairs = []\n",
    "    training_sentence_pairs = []\n",
    "\n",
    "    # Get training data for this cycle\n",
    "    for i in range(n_iters):\n",
    "        sent_pair = random.choice(pairs)\n",
    "        training_pairs.append(tensorsFromPair(sent_pair))\n",
    "        #print(training_pairs)\n",
    "        training_sentence_pairs.append(sent_pair)\n",
    "    \n",
    "    for iter in range(1, n_iters + 1):\n",
    "        training_pair = training_pairs[iter - 1]\n",
    "        input_tensor = training_pair[0]\n",
    "        target_tensor = training_pair[1]\n",
    "        \n",
    "        # Run the train function\n",
    "        loss = train(input_tensor, target_tensor, encoder, decoder, encoder_optimizer, decoder_optimizer, criterion, input_max_length = INPUT_MAX_LENGTH, target_max_length = TARGET_MAX_LENGTH )\n",
    "\n",
    "        _, sent_bleu_score = evaluate_pairs(encoder , decoder, pairs = [training_sentence_pairs[iter-1]] )\n",
    "        # Keep track of loss\n",
    "        print_loss_total += loss\n",
    "        plot_loss_total += loss\n",
    "        print_bleu_total += sent_bleu_score\n",
    "\n",
    "        #Compute the loss and Bleu score on both the training and development set\n",
    "        if iter % print_every == 0:\n",
    "            #print loss \n",
    "            print_loss_avg = print_loss_total / print_every\n",
    "            print_loss_total = 0\n",
    "            print('%s (%d %d%%) Training-set loss: %.4f' % (timeSince(start, iter / n_iters), iter, iter / n_iters * 100, print_loss_avg))\n",
    "\n",
    "            #print BLEU score \n",
    "            train_bleu_score = print_bleu_total/print_every\n",
    "            print_bleu_total = 0\n",
    "            print('Training set Bleu score : %.4f ' %(train_bleu_score) )\n",
    "\n",
    "            ### --------------  Development set -------------###\n",
    "            val_loss , val_bleu_score = evaluate_pairs(encoder, decoder, val_pairs, show_translation = False)\n",
    "\n",
    "            #print loss \n",
    "            print('%s (%d %d%%) validation loss : %.4f' % (timeSince(start, iter / n_iters),iter, iter / n_iters * 100, val_loss))\n",
    "            \n",
    "            #print BLEU score\n",
    "            print('Validation set Bleu score : %.4f ' %(val_bleu_score) )\n",
    "\n",
    "            train_plot_losses.append(print_loss_avg)\n",
    "            val_plot_losses.append(val_loss)\n",
    "            train_plot_bleu_scores.append(train_bleu_score)\n",
    "            val_plot_bleu_scores.append(val_bleu_score)\n",
    "            print('')\n",
    "\n",
    "            if val_bleu_score >= max_val_bleu_score:\n",
    "                print('Saving the Best Model!!!')\n",
    "                max_val_bleu_score = val_bleu_score\n",
    "                BEST_SAVE_PATH = './encoder_decoder_model_best_50.tar'\n",
    "                torch.save({\n",
    "                            'encoder_state_dict': encoder.state_dict(),\n",
    "                            'attndecoder_state_dict': decoder.state_dict(),\n",
    "                            'encoder_optimizer_state_dict': encoder_optimizer.state_dict(),            \n",
    "                            'decoder_optimizer_state_dict' : decoder_optimizer.state_dict(),\n",
    "                            'criterion' : criterion.state_dict(),\n",
    "                            }, BEST_SAVE_PATH)\n",
    "    \n",
    "    history = {'train_loss' : train_plot_losses,\n",
    "               'val_loss': val_plot_losses,\n",
    "               'train_bleu_score' : train_plot_bleu_scores,\n",
    "               'val_bleu_score' : val_plot_bleu_scores\n",
    "               }\n",
    "\n",
    "    return history"
   ]
  },
  {
   "cell_type": "code",
   "execution_count": 114,
   "metadata": {
    "id": "U39nsDrMRjZg"
   },
   "outputs": [],
   "source": [
    "def evaluate_pairs(encoder, decoder, pairs, show_translation = False):\n",
    "    n = len(pairs)\n",
    "    #Compute the average bleu score \n",
    "\n",
    "    bleu_scores_list = []\n",
    "    loss_list = []\n",
    "\n",
    "    for i in range(n):\n",
    "        # pair = random.choice(pairs)\n",
    "        pair = pairs[i]\n",
    "        \n",
    "        output_words, attentions, loss_value  = evaluate(encoder, decoder, pair, input_max_length = INPUT_MAX_LENGTH, target_max_length = TARGET_MAX_LENGTH )\n",
    "        output_sentence = ' '.join(output_words)\n",
    "\n",
    "        # f1.writelines(pair[0]+\",\"+output_sentence+\"\\n\")\n",
    "\n",
    "        if show_translation == True:\n",
    "            print('Hindi sentence : ', pair[0])\n",
    "            print('English sentence : ', pair[1])\n",
    "            print('Predicted sentence : ', output_sentence)\n",
    "\n",
    "        actual_sent_splitted = pair[1].split()\n",
    "        output_sent_splitted = output_sentence.split()\n",
    "        \n",
    "        smoothing_function = SmoothingFunction().method4\n",
    "        sent_bleu_score = 0.0\n",
    "\n",
    "        try:\n",
    "          sent_bleu_score = sentence_bleu(references = [actual_sent_splitted] , hypothesis = output_sent_splitted , weights = (0.25, 0.25, 0.25, 0.25), smoothing_function =  smoothing_function )\n",
    "        except:\n",
    "          pass\n",
    "\n",
    "        bleu_scores_list.append(sent_bleu_score)\n",
    "        loss_list.append(loss_value)\n",
    "\n",
    "    avg_bleu_score = np.nanmean(bleu_scores_list, )\n",
    "    avg_loss_value = np.nanmean(loss_list)\n",
    "    # print('Bleu score is : ', avg_bleu_score )\n",
    "    # print('')\n",
    "    return avg_loss_value, avg_bleu_score"
   ]
  },
  {
   "cell_type": "code",
   "execution_count": 115,
   "metadata": {
    "colab": {
     "base_uri": "https://localhost:8080/"
    },
    "id": "Ctl3Sii2haQK",
    "outputId": "24cb18fb-ccad-4a10-88d4-77df480b1c47"
   },
   "outputs": [
    {
     "name": "stdout",
     "output_type": "stream",
     "text": [
      "2m 29s (- 47m 16s) (1000 5%) Training-set loss: 4.5725\n",
      "Training set Bleu score : 0.1752 \n",
      "3m 42s (- 70m 34s) (1000 5%) validation loss : 4.2831\n",
      "Validation set Bleu score : 0.1549 \n",
      "\n",
      "Saving the Best Model!!!\n",
      "5m 49s (- 52m 28s) (2000 10%) Training-set loss: 4.6797\n",
      "Training set Bleu score : 0.1732 \n",
      "7m 0s (- 63m 4s) (2000 10%) validation loss : 4.1539\n",
      "Validation set Bleu score : 0.1498 \n",
      "\n",
      "9m 2s (- 51m 15s) (3000 15%) Training-set loss: 4.5595\n",
      "Training set Bleu score : 0.1725 \n",
      "10m 16s (- 58m 10s) (3000 15%) validation loss : 4.3112\n",
      "Validation set Bleu score : 0.1572 \n",
      "\n",
      "Saving the Best Model!!!\n",
      "12m 23s (- 49m 35s) (4000 20%) Training-set loss: 4.7693\n",
      "Training set Bleu score : 0.1628 \n",
      "13m 31s (- 54m 7s) (4000 20%) validation loss : 3.9990\n",
      "Validation set Bleu score : 0.1465 \n",
      "\n",
      "15m 36s (- 46m 49s) (5000 25%) Training-set loss: 4.4634\n",
      "Training set Bleu score : 0.1739 \n",
      "16m 49s (- 50m 29s) (5000 25%) validation loss : 4.3638\n",
      "Validation set Bleu score : 0.1577 \n",
      "\n",
      "Saving the Best Model!!!\n",
      "18m 48s (- 43m 54s) (6000 30%) Training-set loss: 4.5065\n",
      "Training set Bleu score : 0.1677 \n",
      "19m 59s (- 46m 38s) (6000 30%) validation loss : 4.1676\n",
      "Validation set Bleu score : 0.1538 \n",
      "\n",
      "22m 3s (- 40m 58s) (7000 35%) Training-set loss: 4.5337\n",
      "Training set Bleu score : 0.1777 \n",
      "23m 16s (- 43m 13s) (7000 35%) validation loss : 4.2515\n",
      "Validation set Bleu score : 0.1550 \n",
      "\n",
      "25m 21s (- 38m 2s) (8000 40%) Training-set loss: 4.5641\n",
      "Training set Bleu score : 0.1726 \n",
      "26m 33s (- 39m 50s) (8000 40%) validation loss : 4.2395\n",
      "Validation set Bleu score : 0.1584 \n",
      "\n",
      "Saving the Best Model!!!\n",
      "28m 37s (- 34m 59s) (9000 45%) Training-set loss: 4.4709\n",
      "Training set Bleu score : 0.1744 \n",
      "29m 47s (- 36m 24s) (9000 45%) validation loss : 4.1319\n",
      "Validation set Bleu score : 0.1531 \n",
      "\n",
      "31m 53s (- 31m 53s) (10000 50%) Training-set loss: 4.4861\n",
      "Training set Bleu score : 0.1779 \n",
      "33m 6s (- 33m 6s) (10000 50%) validation loss : 4.2847\n",
      "Validation set Bleu score : 0.1610 \n",
      "\n",
      "Saving the Best Model!!!\n",
      "35m 14s (- 28m 49s) (11000 55%) Training-set loss: 4.5893\n",
      "Training set Bleu score : 0.1775 \n",
      "36m 30s (- 29m 52s) (11000 55%) validation loss : 4.4551\n",
      "Validation set Bleu score : 0.1644 \n",
      "\n",
      "Saving the Best Model!!!\n",
      "38m 36s (- 25m 44s) (12000 60%) Training-set loss: 4.5565\n",
      "Training set Bleu score : 0.1729 \n",
      "39m 44s (- 26m 29s) (12000 60%) validation loss : 3.9579\n",
      "Validation set Bleu score : 0.1479 \n",
      "\n",
      "41m 47s (- 22m 30s) (13000 65%) Training-set loss: 4.4793\n",
      "Training set Bleu score : 0.1780 \n",
      "43m 4s (- 23m 11s) (13000 65%) validation loss : 4.4360\n",
      "Validation set Bleu score : 0.1640 \n",
      "\n",
      "45m 14s (- 19m 23s) (14000 70%) Training-set loss: 4.5230\n",
      "Training set Bleu score : 0.1756 \n",
      "46m 24s (- 19m 53s) (14000 70%) validation loss : 4.1372\n",
      "Validation set Bleu score : 0.1553 \n",
      "\n",
      "48m 29s (- 16m 9s) (15000 75%) Training-set loss: 4.5597\n",
      "Training set Bleu score : 0.1739 \n",
      "49m 39s (- 16m 33s) (15000 75%) validation loss : 4.0747\n",
      "Validation set Bleu score : 0.1514 \n",
      "\n",
      "51m 43s (- 12m 55s) (16000 80%) Training-set loss: 4.5003\n",
      "Training set Bleu score : 0.1758 \n",
      "52m 56s (- 13m 14s) (16000 80%) validation loss : 4.2559\n",
      "Validation set Bleu score : 0.1609 \n",
      "\n",
      "55m 0s (- 9m 42s) (17000 85%) Training-set loss: 4.5582\n",
      "Training set Bleu score : 0.1740 \n",
      "56m 17s (- 9m 55s) (17000 85%) validation loss : 4.4020\n",
      "Validation set Bleu score : 0.1636 \n",
      "\n",
      "58m 20s (- 6m 28s) (18000 90%) Training-set loss: 4.4637\n",
      "Training set Bleu score : 0.1791 \n",
      "59m 33s (- 6m 37s) (18000 90%) validation loss : 4.2217\n",
      "Validation set Bleu score : 0.1602 \n",
      "\n",
      "61m 34s (- 3m 14s) (19000 95%) Training-set loss: 4.4278\n",
      "Training set Bleu score : 0.1703 \n",
      "62m 50s (- 3m 18s) (19000 95%) validation loss : 4.3558\n",
      "Validation set Bleu score : 0.1623 \n",
      "\n",
      "64m 51s (- 0m 0s) (20000 100%) Training-set loss: 4.4703\n",
      "Training set Bleu score : 0.1767 \n",
      "66m 5s (- 0m 0s) (20000 100%) validation loss : 4.3424\n",
      "Validation set Bleu score : 0.1659 \n",
      "\n",
      "Saving the Best Model!!!\n"
     ]
    }
   ],
   "source": [
    "%matplotlib inline\n",
    "\n",
    "training_history = trainIters(encoder = encoder1, decoder = attn_decoder1, \n",
    "                              encoder_optimizer = encoder_optimizer, decoder_optimizer = decoder_optimizer,\n",
    "                              n_iters = 20000, print_every=1000)"
   ]
  },
  {
   "cell_type": "code",
   "execution_count": null,
   "metadata": {},
   "outputs": [],
   "source": [
    "# hidden_size=256\n",
    "# n_layers=1\n",
    "# bidirectional=True"
   ]
  },
  {
   "cell_type": "code",
   "execution_count": 116,
   "metadata": {},
   "outputs": [],
   "source": [
    "# device = torch.device('cpu')\n",
    "encoder_loaded = EncoderRNN(input_lang.n_words, hidden_size, n_layers=n_layers,  method='GRU', bidirectional=bidirectional)\n",
    "attn_decoder_loaded= AttnDecoderRNN(hidden_size, output_lang.n_words, n_layers=n_layers,method='GRU', bidirectional=bidirectional)\n",
    "#Load the dictionary from saved file\n",
    "BEST_SAVE_PATH = './encoder_decoder_model_best_50.tar'\n",
    "checkpoint = torch.load(BEST_SAVE_PATH)\n",
    "\n",
    "# load the state from dictionary \n",
    "encoder_loaded.load_state_dict(checkpoint['encoder_state_dict'])\n",
    "attn_decoder_loaded.load_state_dict(checkpoint['attndecoder_state_dict'])\n",
    "\n",
    "encoder_loaded.train()\n",
    "attn_decoder_loaded.train()\n",
    "\n",
    "encoder_loaded = encoder_loaded.to(device)\n",
    "attn_decoder_loaded = attn_decoder_loaded.to(device)\n",
    "\n",
    "# learning_rate=0.001\n",
    "# encoder_optimizer_loaded = optim.Adam(encoder_loaded.parameters(), lr=learning_rate)\n",
    "# decoder_optimizer_loaded = optim.Adam(attn_decoder_loaded.parameters(), lr=learning_rate)"
   ]
  },
  {
   "cell_type": "code",
   "execution_count": null,
   "metadata": {},
   "outputs": [],
   "source": [
    "device = torch.device('cuda')"
   ]
  },
  {
   "cell_type": "code",
   "execution_count": null,
   "metadata": {
    "colab": {
     "base_uri": "https://localhost:8080/"
    },
    "id": "tpXipHw6UV3O",
    "outputId": "c185cd9a-d93e-48bb-bef1-ca5e253cf94e"
   },
   "outputs": [],
   "source": [
    "# from collections import defaultdict\n",
    "# file1 = pd.read_csv(\"hindistatements.csv\")[40:50]\n",
    "# file1[\"hindi\"] = file1.hindi.apply(lambda w: normalizeString(w))\n",
    "# pairs1=[]\n",
    "# for ind, r in file1.iterrows():\n",
    "#   pairs1.append([r['hindi'],\"NONE\"])\n",
    "\n",
    "# print(\"Read %s sentence pairs\" % len(pairs1))\n",
    "# pairs1 = clean_pairs(pairs1)\n",
    "# pairs1 = filterPairs(pairs1)\n",
    "# print(\"Trimmed to %s sentence pairs\" % len(pairs1))\n",
    "# #Make word lists from sentences in pairs\n",
    "# for pair in pairs1:\n",
    "#     input_lang.addSentence(pair[0])\n",
    "# #     output_lang.addSentence(pair[1])\n",
    "# # print(\"Counted words:\")\n",
    "# print(input_lang.name, input_lang.n_words)\n",
    "# print(output_lang.name, output_lang.n_words)"
   ]
  },
  {
   "cell_type": "code",
   "execution_count": 117,
   "metadata": {
    "id": "krc3D8HOjCfG"
   },
   "outputs": [],
   "source": [
    "def evaluate1(encoder, decoder, sentence, max_length=INPUT_MAX_LENGTH,  target_max_length = TARGET_MAX_LENGTH):\n",
    "    with torch.no_grad():\n",
    "        input_tensor = tensorFromSentence(input_lang, sentence)\n",
    "        input_length = input_tensor.size()[0]\n",
    "#         input_tensor = input_tensor.to(device)\n",
    "        encoder_hidden = encoder.initHidden()\n",
    "\n",
    "        encoder_outputs = torch.zeros(max_length, encoder.hidden_size*2, device=device)\n",
    "\n",
    "        for ei in range(input_length):\n",
    "            encoder_output, encoder_hidden = encoder(input_tensor[ei], encoder_hidden)\n",
    "            encoder_outputs[ei] += encoder_output[0, 0]\n",
    "\n",
    "        decoder_input = torch.tensor([[SOS_token]], device=device)  # SOS\n",
    "\n",
    "        decoder_hidden = encoder_hidden\n",
    "\n",
    "        decoded_words = []\n",
    "        decoder_attentions = torch.zeros(target_max_length, target_max_length)\n",
    "\n",
    "        for di in range(target_max_length):\n",
    "            decoder_output, decoder_hidden, decoder_attention = decoder(decoder_input, decoder_hidden, encoder_outputs)\n",
    "#             decoder_attentions[di] = decoder_attention.data\n",
    "            topv, topi = decoder_output.data.topk(1)\n",
    "            if topi.item() == EOS_token:\n",
    "                decoded_words.append('<EOS>')\n",
    "                break\n",
    "            else:\n",
    "                decoded_words.append(output_lang.index2word[topi.item()])\n",
    "\n",
    "            decoder_input = topi.squeeze().detach()\n",
    "        #print(decoded_words)\n",
    "        return decoded_words"
   ]
  },
  {
   "cell_type": "code",
   "execution_count": 123,
   "metadata": {
    "id": "8Pkuw4TG7dQr"
   },
   "outputs": [],
   "source": [
    "f1= open(\"answer1.txt\",'w')"
   ]
  },
  {
   "cell_type": "code",
   "execution_count": 119,
   "metadata": {
    "id": "9F2LeQMVLMGA"
   },
   "outputs": [],
   "source": [
    "def evaluateRandomly(encoder, decoder, pairs1):\n",
    "    for i in range(len(pairs1)):\n",
    "        pair = pairs1[i]\n",
    "        # pair = random.choice(pairs)\n",
    "        #print('>',pair[0])\n",
    "        output_words = evaluate1(encoder, decoder,pair[0])\n",
    "        output_sentence = ' '.join(output_words[:-1])\n",
    "        f1.writelines(output_sentence+\"\\n\")\n",
    "        #print('<', output_sentence)\n",
    "        #print('')"
   ]
  },
  {
   "cell_type": "code",
   "execution_count": 124,
   "metadata": {
    "colab": {
     "base_uri": "https://localhost:8080/",
     "height": 579
    },
    "id": "7yLn3SHELOq4",
    "outputId": "64fb40ed-9c23-46ec-9e82-9398da166f68"
   },
   "outputs": [],
   "source": [
    "evaluateRandomly(encoder1, attn_decoder1, pairst)"
   ]
  },
  {
   "cell_type": "code",
   "execution_count": null,
   "metadata": {},
   "outputs": [],
   "source": [
    "pairst[:2]"
   ]
  },
  {
   "cell_type": "code",
   "execution_count": 121,
   "metadata": {
    "id": "dRZ5Xl5Bam5s"
   },
   "outputs": [
    {
     "data": {
      "text/plain": [
       "<Figure size 432x288 with 0 Axes>"
      ]
     },
     "metadata": {},
     "output_type": "display_data"
    },
    {
     "data": {
      "image/png": "[encoded data removed]",
      "text/plain": [
       "<Figure size 432x288 with 1 Axes>"
      ]
     },
     "metadata": {
      "needs_background": "light"
     },
     "output_type": "display_data"
    }
   ],
   "source": [
    "## PLot the train and validation bleu score\n",
    "plt.figure()\n",
    "fig, ax = plt.subplots() \n",
    "plt.plot(training_history['train_bleu_score'], label = 'train BLEU Score')\n",
    "plt.plot(training_history['val_bleu_score'], label = 'val BLEU Score')\n",
    "plt.title('BLEU Score vs Training steps')\n",
    "plt.xlabel('Training steps (x 1000)')\n",
    "plt.ylabel('BLEU')\n",
    "plt.legend()\n",
    "plt.show()"
   ]
  },
  {
   "cell_type": "code",
   "execution_count": 122,
   "metadata": {
    "id": "7DLgjn88avJf"
   },
   "outputs": [
    {
     "data": {
      "text/plain": [
       "<Figure size 432x288 with 0 Axes>"
      ]
     },
     "metadata": {},
     "output_type": "display_data"
    },
    {
     "data": {
      "image/png": "[encoded data removed]",
      "text/plain": [
       "<Figure size 432x288 with 1 Axes>"
      ]
     },
     "metadata": {
      "needs_background": "light"
     },
     "output_type": "display_data"
    }
   ],
   "source": [
    "## PLot the train and validation loss \n",
    "plt.figure()\n",
    "fig, ax = plt.subplots()\n",
    "plt.plot(training_history['train_loss'], label = 'train loss')\n",
    "plt.plot(training_history['val_loss'], label = 'val loss')\n",
    "plt.title('Loss vs Training steps')\n",
    "plt.xlabel('Training steps (x 1000)')\n",
    "plt.ylabel('Loss')\n",
    "plt.legend()\n",
    "plt.show()"
   ]
  },
  {
   "cell_type": "code",
   "execution_count": null,
   "metadata": {
    "id": "syezSzYM48qX"
   },
   "outputs": [],
   "source": [
    "print(random.choice(pairs1))"
   ]
  },
  {
   "cell_type": "code",
   "execution_count": null,
   "metadata": {
    "id": "EO4TAfKxjhSr"
   },
   "outputs": [],
   "source": [
    "test_loss , test_bleu_score = evaluate_pairs(encoder = encoder1, decoder = attn_decoder1, pairs = pairs1[5:15], show_translation = True)"
   ]
  },
  {
   "cell_type": "code",
   "execution_count": null,
   "metadata": {
    "id": "PyjTF15y9pw-"
   },
   "outputs": [],
   "source": [
    "f1.close()"
   ]
  },
  {
   "cell_type": "code",
   "execution_count": null,
   "metadata": {
    "id": "ZLkMHkrzUUEO"
   },
   "outputs": [],
   "source": [
    "SAVE_PATH = './encoder_decoder_model_best_50.tar'"
   ]
  },
  {
   "cell_type": "code",
   "execution_count": null,
   "metadata": {
    "id": "ZCppLuY291Hx"
   },
   "outputs": [],
   "source": [
    "# ##  Load the dictionary from saved file\n",
    "checkpoint = torch.load(SAVE_PATH)\n",
    "\n",
    "# load the state from dictionary \n",
    "encoder1.load_state_dict(checkpoint['encoder_state_dict'])\n",
    "attn_decoder1.load_state_dict(checkpoint['attndecoder_state_dict'])"
   ]
  },
  {
   "cell_type": "code",
   "execution_count": null,
   "metadata": {
    "id": "bpg5gMcu_CVp"
   },
   "outputs": [],
   "source": [
    "encoder1.train().to(device)\n",
    "attn_decoder1.train().to(device)"
   ]
  },
  {
   "cell_type": "code",
   "execution_count": null,
   "metadata": {
    "id": "DlvIzT4hU2Hb"
   },
   "outputs": [],
   "source": [
    "# encoder_loaded = EncoderRNN(input_lang.n_words, hidden_size)\n",
    "# attn_decoder_loaded = AttnDecoderRNN(hidden_size, output_lang.n_words, dropout_p=0.1)"
   ]
  },
  {
   "cell_type": "code",
   "execution_count": null,
   "metadata": {
    "id": "y4la8CcMU605"
   },
   "outputs": [],
   "source": [
    "# learning_rate=0.0002\n",
    "# encoder_optimizer_loaded = optim.Adam(encoder_loaded.parameters(), lr=learning_rate)\n",
    "# decoder_optimizer_loaded = optim.Adam(attn_decoder_loaded.parameters(), lr=learning_rate)"
   ]
  },
  {
   "cell_type": "code",
   "execution_count": null,
   "metadata": {
    "id": "Xx7uKH7jVA9M"
   },
   "outputs": [],
   "source": [
    "# TRAIN_LOADED_MODEL = False"
   ]
  },
  {
   "cell_type": "code",
   "execution_count": null,
   "metadata": {
    "id": "M8b47WEVUuTv"
   },
   "outputs": [],
   "source": [
    "# # Important to do the following step to freeze the layers and use the model for evaluation\n",
    "# encoder_loaded.eval()\n",
    "# attn_decoder_loaded.eval()\n",
    "\n",
    "# ##  Load the dictionary from saved file\n",
    "# checkpoint = torch.load(SAVE_PATH)\n",
    "\n",
    "# # load the state from dictionary \n",
    "# encoder_loaded.load_state_dict(checkpoint['encoder_state_dict'])\n",
    "# attn_decoder_loaded.load_state_dict(checkpoint['attndecoder_state_dict'])\n",
    "\n",
    "# if TRAIN_LOADED_MODEL:\n",
    "#   encoder_loaded.train()\n",
    "#   attn_decoder_loaded.train()\n",
    "# else: \n",
    "#   encoder_loaded.eval()\n",
    "#   attn_decoder_loaded.eval()\n",
    "\n",
    "# encoder_loaded = encoder_loaded.to(device)\n",
    "# attn_decoder_loaded = attn_decoder_loaded.to(device)"
   ]
  },
  {
   "cell_type": "code",
   "execution_count": null,
   "metadata": {
    "id": "gDoAHzwHVGvS"
   },
   "outputs": [],
   "source": [
    "#Set \"show_translation\" = True to show the translated sentences for each test sentence\n",
    "\n",
    "#test_loss , test_bleu_score = evaluate_pairs(encoder = encoder1, decoder = attn_decoder1, pairs = val_pairs[100:105], show_translation = True)"
   ]
  },
  {
   "cell_type": "code",
   "execution_count": null,
   "metadata": {
    "id": "itsTRoYFVV3Q"
   },
   "outputs": [],
   "source": [
    "#print(\"Bleu score on test set using best checkpoint (in percent): \", round(test_bleu_score*100, 4 ) )"
   ]
  },
  {
   "cell_type": "code",
   "execution_count": null,
   "metadata": {
    "id": "C7RWPgclixwD"
   },
   "outputs": [],
   "source": []
  }
 ],
 "metadata": {
  "accelerator": "GPU",
  "colab": {
   "collapsed_sections": [],
   "name": "NMTBest.ipynb",
   "provenance": []
  },
  "kernelspec": {
   "display_name": "Python 3",
   "language": "python",
   "name": "python3"
  },
  "language_info": {
   "codemirror_mode": {
    "name": "ipython",
    "version": 3
   },
   "file_extension": ".py",
   "mimetype": "text/x-python",
   "name": "python",
   "nbconvert_exporter": "python",
   "pygments_lexer": "ipython3",
   "version": "3.7.0"
  }
 },
 "nbformat": 4,
 "nbformat_minor": 1
}
